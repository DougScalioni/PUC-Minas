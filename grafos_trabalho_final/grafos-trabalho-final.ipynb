{
 "cells": [
  {
   "cell_type": "code",
   "execution_count": 321,
   "metadata": {},
   "outputs": [],
   "source": [
    "from igraph import *\n",
    "import numpy as np"
   ]
  },
  {
   "cell_type": "code",
   "execution_count": 322,
   "metadata": {},
   "outputs": [],
   "source": [
    "class Aluno(object):\n",
    "    def __init__(self, codigo, area):\n",
    "        self.codigo_aluno = codigo\n",
    "        self.area_pesquisa = area\n",
    "    \n",
    "    def __repr__(self):\n",
    "        to_string = \"\\nCódigo Aluno: \" + str(self.codigo_aluno)\n",
    "        to_string += \", Área de Pesquisa: \" + str(self.area_pesquisa)\n",
    "        return to_string \n",
    "        "
   ]
  },
  {
   "cell_type": "code",
   "execution_count": 323,
   "metadata": {},
   "outputs": [
    {
     "data": {
      "text/plain": [
       "[\n",
       " Código Aluno: 1, Área de Pesquisa: 1,\n",
       " \n",
       " Código Aluno: 2, Área de Pesquisa: 1,\n",
       " \n",
       " Código Aluno: 3, Área de Pesquisa: 3,\n",
       " \n",
       " Código Aluno: 4, Área de Pesquisa: 2,\n",
       " \n",
       " Código Aluno: 5, Área de Pesquisa: 2,\n",
       " \n",
       " Código Aluno: 6, Área de Pesquisa: 3,\n",
       " \n",
       " Código Aluno: 7, Área de Pesquisa: 1,\n",
       " \n",
       " Código Aluno: 8, Área de Pesquisa: 1,\n",
       " \n",
       " Código Aluno: 9, Área de Pesquisa: 3,\n",
       " \n",
       " Código Aluno: 10, Área de Pesquisa: 2,\n",
       " \n",
       " Código Aluno: 11, Área de Pesquisa: 2]"
      ]
     },
     "execution_count": 323,
     "metadata": {},
     "output_type": "execute_result"
    }
   ],
   "source": [
    "file = open('Aluno_Area_Pesquisa.txt', 'r').read()\n",
    "lines = file.split('\\n')\n",
    "alunos = []\n",
    "for line in lines:\n",
    "    line = line.split(' ')\n",
    "    codigo_aluno = int(line[0])\n",
    "    area_pesquisa = int(line[1])\n",
    "    a = Aluno(codigo_aluno, area_pesquisa)\n",
    "    alunos.append(a)\n",
    "alunos"
   ]
  },
  {
   "cell_type": "code",
   "execution_count": 324,
   "metadata": {},
   "outputs": [],
   "source": [
    "def completa_matriz(matriz_triangulo):\n",
    "    matriz_triangulo.sort(key=len, reverse=True)\n",
    "    lado = len(matriz_triangulo)\n",
    "    matriz = np.zeros((lado, lado))\n",
    "    for i in range(lado):\n",
    "        for j in range(len(matriz_triangulo[i])):\n",
    "            matriz[i][i+j] = matriz_triangulo[i][j]\n",
    "            matriz[i+j][i] = matriz_triangulo[i][j]\n",
    "    return matriz\n",
    "    "
   ]
  },
  {
   "cell_type": "code",
   "execution_count": 325,
   "metadata": {},
   "outputs": [
    {
     "data": {
      "text/plain": [
       "array([[ 0., 80., 10.],\n",
       "       [80.,  0., 50.],\n",
       "       [10., 50.,  0.]])"
      ]
     },
     "execution_count": 325,
     "metadata": {},
     "output_type": "execute_result"
    }
   ],
   "source": [
    "file = open('Matriz_Dissimilaridade.txt', 'r').read()\n",
    "lines = file.split('\\n')\n",
    "matriz_triangulo = []\n",
    "for l in lines:\n",
    "    l = l.split(' ')\n",
    "    l = list(filter(None, l))\n",
    "    matriz_triangulo.append(l)\n",
    "matriz = completa_matriz(matriz_triangulo)\n",
    "matriz"
   ]
  },
  {
   "cell_type": "code",
   "execution_count": 326,
   "metadata": {},
   "outputs": [],
   "source": [
    "def dist_aluno(aluno1, aluno2):\n",
    "    area1 = aluno1.area_pesquisa\n",
    "    area2 = aluno2.area_pesquisa\n",
    "    return matriz[area1-1][area2-1]\n",
    "    "
   ]
  },
  {
   "cell_type": "code",
   "execution_count": 327,
   "metadata": {},
   "outputs": [
    {
     "data": {
      "text/plain": [
       "10.0"
      ]
     },
     "execution_count": 327,
     "metadata": {},
     "output_type": "execute_result"
    }
   ],
   "source": [
    "dist_aluno(alunos[0],alunos[2])"
   ]
  },
  {
   "cell_type": "code",
   "execution_count": 328,
   "metadata": {},
   "outputs": [],
   "source": [
    "class Aresta(object):\n",
    "    def __init__(self, aluno1, aluno2, peso):\n",
    "        self.aluno1 = aluno1\n",
    "        self.aluno2 = aluno2\n",
    "        self.peso = peso\n",
    "        \n",
    "        \n",
    "    def __repr__(self):\n",
    "        to_string = '\\n('+str(self.aluno1.codigo_aluno)+', '\n",
    "        to_string += str(self.aluno2.codigo_aluno)+', '\n",
    "        to_string += str(self.peso)+')'\n",
    "        return to_string "
   ]
  },
  {
   "cell_type": "code",
   "execution_count": 329,
   "metadata": {},
   "outputs": [],
   "source": [
    "class Grafo(object):\n",
    "    \n",
    "    vertices = []\n",
    "    arestas = []\n",
    "    \n",
    "    def __init__(self, vertices, arestas):\n",
    "        self.vertices = vertices\n",
    "        self.arestas = arestas\n",
    "\n",
    "        \n",
    "    def add(self, aluno):\n",
    "        mais_prox = self.vertices[0]\n",
    "        dist_min = dist_aluno(aluno, mais_prox)\n",
    "        for v in self.vertices:\n",
    "            dist = dist_aluno(aluno, v)\n",
    "            if dist < dist_min:\n",
    "                dist_min = dist\n",
    "                mais_prox = v\n",
    "        self.vertices.append(aluno)\n",
    "        aresta = Aresta(aluno, mais_prox, dist_min)\n",
    "        self.arestas.append(aresta)\n",
    "        \n",
    "    \n",
    "    def diferenca(self):\n",
    "        diferenca = 0\n",
    "        for v in self.arestas:\n",
    "            diferenca += v.peso\n",
    "        return diferenca\n",
    "            \n",
    "        \n",
    "    def grau(self):\n",
    "        return len(self.vertices)\n",
    "    \n",
    "            \n",
    "    def __repr__(self):\n",
    "        return str(self.vertices) + '\\n'+ str(self.arestas)\n",
    "    "
   ]
  },
  {
   "cell_type": "code",
   "execution_count": 330,
   "metadata": {},
   "outputs": [],
   "source": [
    "def dist_grafo(grafo1, grafo2):\n",
    "    sum_dist = 0\n",
    "    for aluno1 in grafo1.vertices:\n",
    "        for aluno2 in grafo2.vertices:\n",
    "            sum_dist += dist_aluno(aluno1, aluno2)\n",
    "    n = len(grafo1.vertices)\n",
    "    m = len(grafo2.vertices)\n",
    "    media_dist = sum_dist/(n*m)\n",
    "    return media_dist\n",
    "        "
   ]
  },
  {
   "cell_type": "code",
   "execution_count": 331,
   "metadata": {},
   "outputs": [
    {
     "name": "stdout",
     "output_type": "stream",
     "text": [
      "0\n"
     ]
    },
    {
     "data": {
      "text/plain": [
       "33.333333333333336"
      ]
     },
     "execution_count": 331,
     "metadata": {},
     "output_type": "execute_result"
    }
   ],
   "source": [
    "alunos1 = alunos[:5]\n",
    "alunos2 = alunos[5:]\n",
    "#print(alunos1, alunos2)\n",
    "grafo1 = Grafo(alunos1, [])\n",
    "grafo2 = Grafo(alunos2, [])\n",
    "print(grafo1.diferenca())\n",
    "dist_grafo(grafo1, grafo2)"
   ]
  },
  {
   "cell_type": "code",
   "execution_count": 332,
   "metadata": {},
   "outputs": [
    {
     "data": {
      "text/plain": [
       "[\n",
       "Código Aluno: 1, Área de Pesquisa: 1, \n",
       "Código Aluno: 2, Área de Pesquisa: 1, \n",
       "Código Aluno: 3, Área de Pesquisa: 3, \n",
       "Código Aluno: 4, Área de Pesquisa: 2]\n",
       "[\n",
       "(2, 1, 0.0), \n",
       "(3, 1, 10.0), \n",
       "(4, 3, 50.0)]"
      ]
     },
     "execution_count": 332,
     "metadata": {},
     "output_type": "execute_result"
    }
   ],
   "source": [
    "grafo = Grafo([alunos[0]],[])\n",
    "grafo.add(alunos[1])\n",
    "grafo.add(alunos[2])\n",
    "grafo.add(alunos[3])\n",
    "grafo"
   ]
  },
  {
   "cell_type": "code",
   "execution_count": 333,
   "metadata": {},
   "outputs": [
    {
     "name": "stdout",
     "output_type": "stream",
     "text": [
      "60.0\n",
      "4\n"
     ]
    }
   ],
   "source": [
    "print(grafo.diferenca())\n",
    "print(grafo.grau())"
   ]
  },
  {
   "cell_type": "code",
   "execution_count": 334,
   "metadata": {},
   "outputs": [],
   "source": [
    "def particao(k, alunos):\n",
    "    subgrafos = []\n",
    "    for aluno in alunos:\n",
    "        subgrafo = Grafo([aluno],[])\n",
    "        subgrafos.append(subgrafo)  \n",
    "    while len(subgrafos) > k:\n",
    "        subgrafos = sorted(subgrafos, key = lambda g: (g.grau(), -g.diferenca())) #grau crescente, diferença decrescente\n",
    "        s = subgrafos.pop(0)\n",
    "        for aluno in s.vertices:\n",
    "            subgrafos = sorted(subgrafos, key = lambda g: (g.grau(), dist_grafo(Grafo([aluno],[]), g)))\n",
    "            subgrafos[0].add(aluno)\n",
    "    return subgrafos"
   ]
  },
  {
   "cell_type": "code",
   "execution_count": 336,
   "metadata": {},
   "outputs": [
    {
     "name": "stdout",
     "output_type": "stream",
     "text": [
      "[[\n",
      "Código Aluno: 6, Área de Pesquisa: 3, \n",
      "Código Aluno: 3, Área de Pesquisa: 3, \n",
      "Código Aluno: 4, Área de Pesquisa: 2, \n",
      "Código Aluno: 1, Área de Pesquisa: 1]\n",
      "[\n",
      "(3, 6, 0.0), \n",
      "(4, 6, 50.0), \n",
      "(1, 6, 10.0)], [\n",
      "Código Aluno: 10, Área de Pesquisa: 2, \n",
      "Código Aluno: 5, Área de Pesquisa: 2, \n",
      "Código Aluno: 11, Área de Pesquisa: 2]\n",
      "[\n",
      "(5, 10, 0.0), \n",
      "(11, 10, 0.0)], [\n",
      "Código Aluno: 8, Área de Pesquisa: 1, \n",
      "Código Aluno: 7, Área de Pesquisa: 1, \n",
      "Código Aluno: 9, Área de Pesquisa: 3, \n",
      "Código Aluno: 2, Área de Pesquisa: 1]\n",
      "[\n",
      "(7, 8, 0.0), \n",
      "(9, 8, 10.0), \n",
      "(2, 8, 0.0)]]\n"
     ]
    },
    {
     "data": {
      "text/plain": [
       "3"
      ]
     },
     "execution_count": 336,
     "metadata": {},
     "output_type": "execute_result"
    }
   ],
   "source": [
    "solucao = particao(3, alunos)\n",
    "print(solucao)\n",
    "len(solucao)"
   ]
  },
  {
   "cell_type": "code",
   "execution_count": 316,
   "metadata": {},
   "outputs": [
    {
     "name": "stdout",
     "output_type": "stream",
     "text": [
      "11\n",
      "10\n"
     ]
    }
   ],
   "source": [
    "subgrafos = particao(2,alunos)\n",
    "print(len(subgrafos))\n",
    "#sortedList = sorted(myList, key = lambda y: (y[0].lower(), -y[1]))\n",
    "subgrafos = sorted(subgrafos, key = lambda g: (g.grau(), -g.diferenca())) #grau crescente, diferença decrescente\n",
    "s = subgrafos.pop(0)\n",
    "for aluno in s.vertices:\n",
    "    subgrafos = sorted(subgrafos, key = lambda g: (g.grau(), dist_grafo(Grafo([aluno],[]), g)))\n",
    "    subgrafos[0].add(aluno)\n",
    "print(len(subgrafos))"
   ]
  }
 ],
 "metadata": {
  "kernelspec": {
   "display_name": "Python 3",
   "language": "python",
   "name": "python3"
  },
  "language_info": {
   "codemirror_mode": {
    "name": "ipython",
    "version": 3
   },
   "file_extension": ".py",
   "mimetype": "text/x-python",
   "name": "python",
   "nbconvert_exporter": "python",
   "pygments_lexer": "ipython3",
   "version": "3.7.7"
  }
 },
 "nbformat": 4,
 "nbformat_minor": 4
}
