{
 "cells": [
  {
   "cell_type": "markdown",
   "metadata": {},
   "source": [
    "# Algoritmos Computacionais em Grafos - Trabalho Final\n",
    "\n",
    "**PUC Minas**\n",
    "\n",
    "**Engenharia de Software**\n",
    "\n",
    "**Prof Joyce Christina de Paiva Carvalho**\n",
    "\n",
    "* Bruno Armanelli\n",
    "* Douglas Domingues\n",
    "* Henrique Freire\n",
    "* Luiz Antunes"
   ]
  },
  {
   "cell_type": "markdown",
   "metadata": {},
   "source": [
    "## 0) Imports\n",
    "\n",
    "A grande parte do código é python nativo. \n",
    "\n",
    "Para apenas um detalhe foi usado numpy, ao ler a matriz de dissimilaridade.\n",
    "\n",
    "A biblioteca igraph foi usada ao final para visualizar os grafos."
   ]
  },
  {
   "cell_type": "code",
   "execution_count": 381,
   "metadata": {},
   "outputs": [],
   "source": [
    "from igraph import *\n",
    "import numpy as np"
   ]
  },
  {
   "cell_type": "markdown",
   "metadata": {},
   "source": [
    "## 1) Classes\n",
    "\n",
    "#### Aluno\n",
    "    Os alunos são os vértices dos grafos. Possuem código de aluno e área de pesquisa. São lidos a partir do arquivo 'Aluno_Area_Pesquisa.txt'\n",
    "    \n",
    "#### Arestas\n",
    "    As arestas possuem aluno1 e aluno2, correspondendo aos alunos que conectam, e o peso. As arestas são colocadas entre os alunos mais próximos em um grupo automaticamente na inserção.\n",
    "    \n",
    "#### Grafo\n",
    "    O grafo contem uma lista de Aluno e uma lista de Aresta. Nele estão as operações de adição de vértice (aluno), o número de alunos e o cálculo do grau de diferença."
   ]
  },
  {
   "cell_type": "code",
   "execution_count": 382,
   "metadata": {},
   "outputs": [],
   "source": [
    "class Aluno(object):\n",
    "    def __init__(self, codigo, area):\n",
    "        self.codigo_aluno = codigo\n",
    "        self.area_pesquisa = area\n",
    "    \n",
    "    def __repr__(self):\n",
    "        to_string = \"\\nCódigo Aluno: \" + str(self.codigo_aluno)\n",
    "        to_string += \", Área de Pesquisa: \" + str(self.area_pesquisa)\n",
    "        return to_string \n",
    "        "
   ]
  },
  {
   "cell_type": "code",
   "execution_count": 383,
   "metadata": {},
   "outputs": [],
   "source": [
    "class Aresta(object):\n",
    "    def __init__(self, aluno1, aluno2, peso):\n",
    "        self.aluno1 = aluno1\n",
    "        self.aluno2 = aluno2\n",
    "        self.peso = peso\n",
    "        \n",
    "        \n",
    "    def __repr__(self):\n",
    "        to_string = '\\n('+str(self.aluno1.codigo_aluno)+', '\n",
    "        to_string += str(self.aluno2.codigo_aluno)+', '\n",
    "        to_string += str(self.peso)+')'\n",
    "        return to_string "
   ]
  },
  {
   "cell_type": "code",
   "execution_count": 384,
   "metadata": {},
   "outputs": [],
   "source": [
    "class Grafo(object):\n",
    "    \n",
    "    vertices = []\n",
    "    arestas = []\n",
    "    \n",
    "    def __init__(self, vertices, arestas):\n",
    "        self.vertices = vertices\n",
    "        self.arestas = arestas\n",
    "\n",
    "        \n",
    "    def add(self, aluno):\n",
    "        mais_prox = self.vertices[0]\n",
    "        dist_min = dist_aluno(aluno, mais_prox)\n",
    "        for v in self.vertices:\n",
    "            dist = dist_aluno(aluno, v)\n",
    "            if dist < dist_min:\n",
    "                dist_min = dist\n",
    "                mais_prox = v\n",
    "        self.vertices.append(aluno)\n",
    "        aresta = Aresta(aluno, mais_prox, dist_min)\n",
    "        self.arestas.append(aresta)\n",
    "        \n",
    "    \n",
    "    def diferenca(self):\n",
    "        diferenca = 0\n",
    "        for v in self.arestas:\n",
    "            diferenca += v.peso\n",
    "        return diferenca\n",
    "            \n",
    "        \n",
    "    def grau(self):\n",
    "        return len(self.vertices)\n",
    "    \n",
    "            \n",
    "    def __repr__(self):\n",
    "        return str(self.vertices) + '\\n'+ str(self.arestas)\n",
    "    "
   ]
  },
  {
   "cell_type": "markdown",
   "metadata": {},
   "source": [
    "## 2) Leitura dos arquivos\n",
    "\n",
    "Na leitura do arquivo 'Aluno_Area_Pesquisa.txt', as linhas são usadas para instanciar os alunos, e a lista alunos é criada.\n",
    "\n",
    "Na leitura do arquivo 'Matriz_Dissimilaridade.txt', a matriz triangular é transformada numa matriz simétrica para facilitar o cálculo de distâncias entre as áreas de pesquisa."
   ]
  },
  {
   "cell_type": "code",
   "execution_count": 390,
   "metadata": {},
   "outputs": [],
   "source": [
    "file = open('Aluno_Area_Pesquisa.txt', 'r').read()\n",
    "lines = file.split('\\n')\n",
    "alunos = []\n",
    "for line in lines:\n",
    "    line = line.split(' ')\n",
    "    codigo_aluno = int(line[0])\n",
    "    area_pesquisa = int(line[1])\n",
    "    a = Aluno(codigo_aluno, area_pesquisa)\n",
    "    alunos.append(a)\n",
    "#alunos"
   ]
  },
  {
   "cell_type": "code",
   "execution_count": 387,
   "metadata": {},
   "outputs": [],
   "source": [
    "def completa_matriz(matriz_triangulo):\n",
    "    matriz_triangulo.sort(key=len, reverse=True)\n",
    "    lado = len(matriz_triangulo)\n",
    "    matriz = np.zeros((lado, lado))\n",
    "    for i in range(lado):\n",
    "        for j in range(len(matriz_triangulo[i])):\n",
    "            matriz[i][i+j] = matriz_triangulo[i][j]\n",
    "            matriz[i+j][i] = matriz_triangulo[i][j]\n",
    "    return matriz\n",
    "    "
   ]
  },
  {
   "cell_type": "code",
   "execution_count": 388,
   "metadata": {},
   "outputs": [
    {
     "data": {
      "text/plain": [
       "array([[ 0., 80., 10., 15., 60., 75., 99.],\n",
       "       [80.,  0., 50., 20., 25., 18., 23.],\n",
       "       [10., 50.,  0., 25., 38., 85., 14.],\n",
       "       [15., 20., 25.,  0., 29., 46., 13.],\n",
       "       [60., 25., 38., 29.,  0., 15., 61.],\n",
       "       [75., 18., 85., 46., 15.,  0., 12.],\n",
       "       [99., 23., 14., 13., 61., 12.,  0.]])"
      ]
     },
     "execution_count": 388,
     "metadata": {},
     "output_type": "execute_result"
    }
   ],
   "source": [
    "file = open('Matriz_Dissimilaridade.txt', 'r').read()\n",
    "lines = file.split('\\n')\n",
    "matriz_triangulo = []\n",
    "for l in lines:\n",
    "    l = l.split(' ')\n",
    "    l = list(filter(None, l))\n",
    "    matriz_triangulo.append(l)\n",
    "matriz = completa_matriz(matriz_triangulo)\n",
    "matriz"
   ]
  },
  {
   "cell_type": "markdown",
   "metadata": {},
   "source": [
    "## 3) Distâncias\n",
    "\n",
    "Primeiro se define a distância entre dois alunos, baseado em suas areas de pesquisa e na matriz de dissimilaridade.\n",
    "\n",
    "Então, é definida a distância entre dois grafos, que é a média das distâncias entre alunos de cada grafo."
   ]
  },
  {
   "cell_type": "code",
   "execution_count": 391,
   "metadata": {},
   "outputs": [],
   "source": [
    "def dist_aluno(aluno1, aluno2):\n",
    "    area1 = aluno1.area_pesquisa\n",
    "    area2 = aluno2.area_pesquisa\n",
    "    return matriz[area1-1][area2-1]\n",
    "    "
   ]
  },
  {
   "cell_type": "code",
   "execution_count": 392,
   "metadata": {},
   "outputs": [],
   "source": [
    "def dist_grafo(grafo1, grafo2):\n",
    "    sum_dist = 0\n",
    "    for aluno1 in grafo1.vertices:\n",
    "        for aluno2 in grafo2.vertices:\n",
    "            sum_dist += dist_aluno(aluno1, aluno2)\n",
    "    n = len(grafo1.vertices)\n",
    "    m = len(grafo2.vertices)\n",
    "    media_dist = sum_dist/(n*m)\n",
    "    return media_dist\n",
    "        "
   ]
  },
  {
   "cell_type": "markdown",
   "metadata": {},
   "source": [
    "## 4) Função Principal e Aplicação"
   ]
  },
  {
   "cell_type": "code",
   "execution_count": 396,
   "metadata": {},
   "outputs": [],
   "source": [
    "def particao(k, alunos):\n",
    "    subgrafos = []\n",
    "    for aluno in alunos:\n",
    "        subgrafo = Grafo([aluno],[])\n",
    "        subgrafos.append(subgrafo)  \n",
    "    while len(subgrafos) > k:\n",
    "        subgrafos = sorted(subgrafos, key = lambda g: (g.grau(), -g.diferenca())) #grau crescente, diferença decrescente\n",
    "        s = subgrafos.pop(0)\n",
    "        for aluno in s.vertices:\n",
    "            subgrafos = sorted(subgrafos, key = lambda g: (g.grau(), dist_grafo(Grafo([aluno],[]), g)))\n",
    "            subgrafos[0].add(aluno)\n",
    "    return subgrafos"
   ]
  },
  {
   "cell_type": "code",
   "execution_count": 402,
   "metadata": {},
   "outputs": [
    {
     "name": "stdout",
     "output_type": "stream",
     "text": [
      "[[\n",
      "Código Aluno: 30, Área de Pesquisa: 1, \n",
      "Código Aluno: 29, Área de Pesquisa: 1, \n",
      "Código Aluno: 31, Área de Pesquisa: 1, \n",
      "Código Aluno: 7, Área de Pesquisa: 1]\n",
      "[\n",
      "(29, 30, 0.0), \n",
      "(31, 30, 0.0), \n",
      "(7, 30, 0.0)], [\n",
      "Código Aluno: 24, Área de Pesquisa: 4, \n",
      "Código Aluno: 12, Área de Pesquisa: 4, \n",
      "Código Aluno: 37, Área de Pesquisa: 4]\n",
      "[\n",
      "(12, 24, 0.0), \n",
      "(37, 24, 0.0)], [\n",
      "Código Aluno: 27, Área de Pesquisa: 5, \n",
      "Código Aluno: 14, Área de Pesquisa: 5, \n",
      "Código Aluno: 13, Área de Pesquisa: 5]\n",
      "[\n",
      "(14, 27, 0.0), \n",
      "(13, 27, 0.0)], [\n",
      "Código Aluno: 39, Área de Pesquisa: 5, \n",
      "Código Aluno: 38, Área de Pesquisa: 5, \n",
      "Código Aluno: 40, Área de Pesquisa: 5]\n",
      "[\n",
      "(38, 39, 0.0), \n",
      "(40, 39, 0.0)], [\n",
      "Código Aluno: 34, Área de Pesquisa: 6, \n",
      "Código Aluno: 33, Área de Pesquisa: 6, \n",
      "Código Aluno: 35, Área de Pesquisa: 6]\n",
      "[\n",
      "(33, 34, 0.0), \n",
      "(35, 34, 0.0)], [\n",
      "Código Aluno: 2, Área de Pesquisa: 1, \n",
      "Código Aluno: 1, Área de Pesquisa: 1, \n",
      "Código Aluno: 8, Área de Pesquisa: 1, \n",
      "Código Aluno: 6, Área de Pesquisa: 3]\n",
      "[\n",
      "(1, 2, 0.0), \n",
      "(8, 2, 0.0), \n",
      "(6, 2, 10.0)], [\n",
      "Código Aluno: 25, Área de Pesquisa: 3, \n",
      "Código Aluno: 23, Área de Pesquisa: 3, \n",
      "Código Aluno: 3, Área de Pesquisa: 3, \n",
      "Código Aluno: 9, Área de Pesquisa: 3]\n",
      "[\n",
      "(23, 25, 0.0), \n",
      "(3, 25, 0.0), \n",
      "(9, 25, 0.0)], [\n",
      "Código Aluno: 17, Área de Pesquisa: 6, \n",
      "Código Aluno: 16, Área de Pesquisa: 6, \n",
      "Código Aluno: 15, Área de Pesquisa: 6, \n",
      "Código Aluno: 5, Área de Pesquisa: 2]\n",
      "[\n",
      "(16, 17, 0.0), \n",
      "(15, 17, 0.0), \n",
      "(5, 17, 18.0)], [\n",
      "Código Aluno: 21, Área de Pesquisa: 7, \n",
      "Código Aluno: 20, Área de Pesquisa: 7, \n",
      "Código Aluno: 26, Área de Pesquisa: 4, \n",
      "Código Aluno: 19, Área de Pesquisa: 7]\n",
      "[\n",
      "(20, 21, 0.0), \n",
      "(26, 21, 13.0), \n",
      "(19, 21, 0.0)], [\n",
      "Código Aluno: 32, Área de Pesquisa: 2, \n",
      "Código Aluno: 11, Área de Pesquisa: 2, \n",
      "Código Aluno: 4, Área de Pesquisa: 2, \n",
      "Código Aluno: 10, Área de Pesquisa: 2]\n",
      "[\n",
      "(11, 32, 0.0), \n",
      "(4, 32, 0.0), \n",
      "(10, 32, 0.0)], [\n",
      "Código Aluno: 28, Área de Pesquisa: 7, \n",
      "Código Aluno: 22, Área de Pesquisa: 7, \n",
      "Código Aluno: 36, Área de Pesquisa: 7, \n",
      "Código Aluno: 18, Área de Pesquisa: 7]\n",
      "[\n",
      "(22, 28, 0.0), \n",
      "(36, 28, 0.0), \n",
      "(18, 28, 0.0)]]\n"
     ]
    },
    {
     "data": {
      "text/plain": [
       "11"
      ]
     },
     "execution_count": 402,
     "metadata": {},
     "output_type": "execute_result"
    }
   ],
   "source": [
    "solucao = particao(11, alunos)\n",
    "print(solucao)\n",
    "len(solucao)"
   ]
  },
  {
   "cell_type": "markdown",
   "metadata": {},
   "source": [
    "## 5) Visualização"
   ]
  },
  {
   "cell_type": "code",
   "execution_count": 401,
   "metadata": {},
   "outputs": [
    {
     "data": {
      "image/svg+xml": [
       "<?xml version=\"1.0\" encoding=\"UTF-8\"?>\n",
       "<svg xmlns=\"http://www.w3.org/2000/svg\" xmlns:xlink=\"http://www.w3.org/1999/xlink\" width=\"600pt\" height=\"600pt\" viewBox=\"0 0 600 600\" version=\"1.1\">\n",
       "<g id=\"surface98\">\n",
       "<rect x=\"0\" y=\"0\" width=\"600\" height=\"600\" style=\"fill:rgb(100%,100%,100%);fill-opacity:1;stroke:none;\"/>\n",
       "<path style=\"fill:none;stroke-width:1;stroke-linecap:butt;stroke-linejoin:miter;stroke:rgb(26.666667%,26.666667%,26.666667%);stroke-opacity:1;stroke-miterlimit:10;\" d=\"M 48.9375 432.105469 L 55.425781 375.140625 \"/>\n",
       "<path style=\"fill:none;stroke-width:1;stroke-linecap:butt;stroke-linejoin:miter;stroke:rgb(26.666667%,26.666667%,26.666667%);stroke-opacity:1;stroke-miterlimit:10;\" d=\"M 55.425781 375.140625 L 35.433594 318.761719 \"/>\n",
       "<path style=\"fill:none;stroke-width:1;stroke-linecap:butt;stroke-linejoin:miter;stroke:rgb(26.666667%,26.666667%,26.666667%);stroke-opacity:1;stroke-miterlimit:10;\" d=\"M 107.804688 376.546875 L 55.425781 375.140625 \"/>\n",
       "<path style=\"fill:none;stroke-width:1;stroke-linecap:butt;stroke-linejoin:miter;stroke:rgb(26.666667%,26.666667%,26.666667%);stroke-opacity:1;stroke-miterlimit:10;\" d=\"M 35.433594 318.761719 L 20 267.171875 \"/>\n",
       "<path style=\"fill:none;stroke-width:1;stroke-linecap:butt;stroke-linejoin:miter;stroke:rgb(26.666667%,26.666667%,26.666667%);stroke-opacity:1;stroke-miterlimit:10;\" d=\"M 221.089844 575.722656 L 181.207031 535.953125 \"/>\n",
       "<path style=\"fill:none;stroke-width:1;stroke-linecap:butt;stroke-linejoin:miter;stroke:rgb(26.666667%,26.666667%,26.666667%);stroke-opacity:1;stroke-miterlimit:10;\" d=\"M 181.207031 535.953125 L 211.226563 490.933594 \"/>\n",
       "<path style=\"fill:none;stroke-width:1;stroke-linecap:butt;stroke-linejoin:miter;stroke:rgb(26.666667%,26.666667%,26.666667%);stroke-opacity:1;stroke-miterlimit:10;\" d=\"M 128.125 521.199219 L 181.207031 535.953125 \"/>\n",
       "<path style=\"fill:none;stroke-width:1;stroke-linecap:butt;stroke-linejoin:miter;stroke:rgb(26.666667%,26.666667%,26.666667%);stroke-opacity:1;stroke-miterlimit:10;\" d=\"M 239.835938 277.375 L 247.671875 337.09375 \"/>\n",
       "<path style=\"fill:none;stroke-width:1;stroke-linecap:butt;stroke-linejoin:miter;stroke:rgb(26.666667%,26.666667%,26.666667%);stroke-opacity:1;stroke-miterlimit:10;\" d=\"M 247.671875 337.09375 L 291.121094 376.484375 \"/>\n",
       "<path style=\"fill:none;stroke-width:1;stroke-linecap:butt;stroke-linejoin:miter;stroke:rgb(26.666667%,26.666667%,26.666667%);stroke-opacity:1;stroke-miterlimit:10;\" d=\"M 247.671875 337.09375 L 201.097656 367.171875 \"/>\n",
       "<path style=\"fill:none;stroke-width:1;stroke-linecap:butt;stroke-linejoin:miter;stroke:rgb(26.666667%,26.666667%,26.666667%);stroke-opacity:1;stroke-miterlimit:10;\" d=\"M 248.714844 112.996094 L 229.957031 58.960938 \"/>\n",
       "<path style=\"fill:none;stroke-width:1;stroke-linecap:butt;stroke-linejoin:miter;stroke:rgb(26.666667%,26.666667%,26.666667%);stroke-opacity:1;stroke-miterlimit:10;\" d=\"M 229.957031 58.960938 L 268.617188 20 \"/>\n",
       "<path style=\"fill:none;stroke-width:1;stroke-linecap:butt;stroke-linejoin:miter;stroke:rgb(26.666667%,26.666667%,26.666667%);stroke-opacity:1;stroke-miterlimit:10;\" d=\"M 177.261719 45.96875 L 229.957031 58.960938 \"/>\n",
       "<path style=\"fill:none;stroke-width:1;stroke-linecap:butt;stroke-linejoin:miter;stroke:rgb(26.666667%,26.666667%,26.666667%);stroke-opacity:1;stroke-miterlimit:10;\" d=\"M 476.386719 222.910156 L 418.789063 244.242188 \"/>\n",
       "<path style=\"fill:none;stroke-width:1;stroke-linecap:butt;stroke-linejoin:miter;stroke:rgb(26.666667%,26.666667%,26.666667%);stroke-opacity:1;stroke-miterlimit:10;\" d=\"M 401.15625 300.652344 L 418.789063 244.242188 \"/>\n",
       "<path style=\"fill:none;stroke-width:1;stroke-linecap:butt;stroke-linejoin:miter;stroke:rgb(26.666667%,26.666667%,26.666667%);stroke-opacity:1;stroke-miterlimit:10;\" d=\"M 363.78125 221.988281 L 418.789063 244.242188 \"/>\n",
       "<path style=\"fill:none;stroke-width:1;stroke-linecap:butt;stroke-linejoin:miter;stroke:rgb(26.666667%,26.666667%,26.666667%);stroke-opacity:1;stroke-miterlimit:10;\" d=\"M 83.621094 113.4375 L 111.070313 160.945313 \"/>\n",
       "<path style=\"fill:none;stroke-width:1;stroke-linecap:butt;stroke-linejoin:miter;stroke:rgb(26.666667%,26.666667%,26.666667%);stroke-opacity:1;stroke-miterlimit:10;\" d=\"M 82.339844 205.460938 L 111.070313 160.945313 \"/>\n",
       "<path style=\"fill:none;stroke-width:1;stroke-linecap:butt;stroke-linejoin:miter;stroke:rgb(26.666667%,26.666667%,26.666667%);stroke-opacity:1;stroke-miterlimit:10;\" d=\"M 162.234375 182.023438 L 111.070313 160.945313 \"/>\n",
       "<path style=\"fill:none;stroke-width:1;stroke-linecap:butt;stroke-linejoin:miter;stroke:rgb(26.666667%,26.666667%,26.666667%);stroke-opacity:1;stroke-miterlimit:10;\" d=\"M 385.871094 38.863281 L 423.910156 88.605469 \"/>\n",
       "<path style=\"fill:none;stroke-width:1;stroke-linecap:butt;stroke-linejoin:miter;stroke:rgb(26.666667%,26.666667%,26.666667%);stroke-opacity:1;stroke-miterlimit:10;\" d=\"M 423.910156 88.605469 L 472.546875 64.046875 \"/>\n",
       "<path style=\"fill:none;stroke-width:1;stroke-linecap:butt;stroke-linejoin:miter;stroke:rgb(26.666667%,26.666667%,26.666667%);stroke-opacity:1;stroke-miterlimit:10;\" d=\"M 369.164063 111.359375 L 423.910156 88.605469 \"/>\n",
       "<path style=\"fill:none;stroke-width:1;stroke-linecap:butt;stroke-linejoin:miter;stroke:rgb(26.666667%,26.666667%,26.666667%);stroke-opacity:1;stroke-miterlimit:10;\" d=\"M 423.910156 88.605469 L 476.101563 128.378906 \"/>\n",
       "<path style=\"fill:none;stroke-width:1;stroke-linecap:butt;stroke-linejoin:miter;stroke:rgb(26.666667%,26.666667%,26.666667%);stroke-opacity:1;stroke-miterlimit:10;\" d=\"M 533.265625 425.015625 L 529.273438 360.40625 \"/>\n",
       "<path style=\"fill:none;stroke-width:1;stroke-linecap:butt;stroke-linejoin:miter;stroke:rgb(26.666667%,26.666667%,26.666667%);stroke-opacity:1;stroke-miterlimit:10;\" d=\"M 539.472656 293.664063 L 529.273438 360.40625 \"/>\n",
       "<path style=\"fill:none;stroke-width:1;stroke-linecap:butt;stroke-linejoin:miter;stroke:rgb(26.666667%,26.666667%,26.666667%);stroke-opacity:1;stroke-miterlimit:10;\" d=\"M 475.722656 383.363281 L 529.273438 360.40625 \"/>\n",
       "<path style=\"fill:none;stroke-width:1;stroke-linecap:butt;stroke-linejoin:miter;stroke:rgb(26.666667%,26.666667%,26.666667%);stroke-opacity:1;stroke-miterlimit:10;\" d=\"M 529.273438 360.40625 L 580 342.5 \"/>\n",
       "<path style=\"fill:none;stroke-width:1;stroke-linecap:butt;stroke-linejoin:miter;stroke:rgb(26.666667%,26.666667%,26.666667%);stroke-opacity:1;stroke-miterlimit:10;\" d=\"M 326.355469 519.355469 L 385.0625 524.261719 \"/>\n",
       "<path style=\"fill:none;stroke-width:1;stroke-linecap:butt;stroke-linejoin:miter;stroke:rgb(26.666667%,26.666667%,26.666667%);stroke-opacity:1;stroke-miterlimit:10;\" d=\"M 366.445313 580 L 385.0625 524.261719 \"/>\n",
       "<path style=\"fill:none;stroke-width:1;stroke-linecap:butt;stroke-linejoin:miter;stroke:rgb(26.666667%,26.666667%,26.666667%);stroke-opacity:1;stroke-miterlimit:10;\" d=\"M 444.511719 528.367188 L 385.0625 524.261719 \"/>\n",
       "<path style=\"fill:none;stroke-width:1;stroke-linecap:butt;stroke-linejoin:miter;stroke:rgb(26.666667%,26.666667%,26.666667%);stroke-opacity:1;stroke-miterlimit:10;\" d=\"M 385.0625 524.261719 L 392.1875 465.238281 \"/>\n",
       "<path style=\"fill-rule:nonzero;fill:rgb(100%,0%,0%);fill-opacity:1;stroke-width:1;stroke-linecap:butt;stroke-linejoin:miter;stroke:rgb(0%,0%,0%);stroke-opacity:1;stroke-miterlimit:10;\" d=\"M 249.835938 277.375 C 249.835938 282.898438 245.359375 287.375 239.835938 287.375 C 234.3125 287.375 229.835938 282.898438 229.835938 277.375 C 229.835938 271.851563 234.3125 267.375 239.835938 267.375 C 245.359375 267.375 249.835938 271.851563 249.835938 277.375 \"/>\n",
       "<path style=\"fill-rule:nonzero;fill:rgb(100%,0%,0%);fill-opacity:1;stroke-width:1;stroke-linecap:butt;stroke-linejoin:miter;stroke:rgb(0%,0%,0%);stroke-opacity:1;stroke-miterlimit:10;\" d=\"M 257.671875 337.09375 C 257.671875 342.617188 253.195313 347.09375 247.671875 347.09375 C 242.148438 347.09375 237.671875 342.617188 237.671875 337.09375 C 237.671875 331.570313 242.148438 327.09375 247.671875 327.09375 C 253.195313 327.09375 257.671875 331.570313 257.671875 337.09375 \"/>\n",
       "<path style=\"fill-rule:nonzero;fill:rgb(100%,0%,0%);fill-opacity:1;stroke-width:1;stroke-linecap:butt;stroke-linejoin:miter;stroke:rgb(0%,0%,0%);stroke-opacity:1;stroke-miterlimit:10;\" d=\"M 92.339844 205.460938 C 92.339844 210.984375 87.863281 215.460938 82.339844 215.460938 C 76.816406 215.460938 72.339844 210.984375 72.339844 205.460938 C 72.339844 199.9375 76.816406 195.460938 82.339844 195.460938 C 87.863281 195.460938 92.339844 199.9375 92.339844 205.460938 \"/>\n",
       "<path style=\"fill-rule:nonzero;fill:rgb(100%,0%,0%);fill-opacity:1;stroke-width:1;stroke-linecap:butt;stroke-linejoin:miter;stroke:rgb(0%,0%,0%);stroke-opacity:1;stroke-miterlimit:10;\" d=\"M 549.472656 293.664063 C 549.472656 299.1875 544.996094 303.664063 539.472656 303.664063 C 533.953125 303.664063 529.472656 299.1875 529.472656 293.664063 C 529.472656 288.144531 533.953125 283.664063 539.472656 283.664063 C 544.996094 283.664063 549.472656 288.144531 549.472656 293.664063 \"/>\n",
       "<path style=\"fill-rule:nonzero;fill:rgb(100%,0%,0%);fill-opacity:1;stroke-width:1;stroke-linecap:butt;stroke-linejoin:miter;stroke:rgb(0%,0%,0%);stroke-opacity:1;stroke-miterlimit:10;\" d=\"M 454.511719 528.367188 C 454.511719 533.886719 450.03125 538.367188 444.511719 538.367188 C 438.988281 538.367188 434.511719 533.886719 434.511719 528.367188 C 434.511719 522.84375 438.988281 518.367188 444.511719 518.367188 C 450.03125 518.367188 454.511719 522.84375 454.511719 528.367188 \"/>\n",
       "<path style=\"fill-rule:nonzero;fill:rgb(100%,0%,0%);fill-opacity:1;stroke-width:1;stroke-linecap:butt;stroke-linejoin:miter;stroke:rgb(0%,0%,0%);stroke-opacity:1;stroke-miterlimit:10;\" d=\"M 211.097656 367.171875 C 211.097656 372.695313 206.621094 377.171875 201.097656 377.171875 C 195.574219 377.171875 191.097656 372.695313 191.097656 367.171875 C 191.097656 361.648438 195.574219 357.171875 201.097656 357.171875 C 206.621094 357.171875 211.097656 361.648438 211.097656 367.171875 \"/>\n",
       "<path style=\"fill-rule:nonzero;fill:rgb(100%,0%,0%);fill-opacity:1;stroke-width:1;stroke-linecap:butt;stroke-linejoin:miter;stroke:rgb(0%,0%,0%);stroke-opacity:1;stroke-miterlimit:10;\" d=\"M 138.125 521.199219 C 138.125 526.722656 133.644531 531.199219 128.125 531.199219 C 122.601563 531.199219 118.125 526.722656 118.125 521.199219 C 118.125 515.675781 122.601563 511.199219 128.125 511.199219 C 133.644531 511.199219 138.125 515.675781 138.125 521.199219 \"/>\n",
       "<path style=\"fill-rule:nonzero;fill:rgb(100%,0%,0%);fill-opacity:1;stroke-width:1;stroke-linecap:butt;stroke-linejoin:miter;stroke:rgb(0%,0%,0%);stroke-opacity:1;stroke-miterlimit:10;\" d=\"M 301.121094 376.484375 C 301.121094 382.007813 296.640625 386.484375 291.121094 386.484375 C 285.597656 386.484375 281.121094 382.007813 281.121094 376.484375 C 281.121094 370.960938 285.597656 366.484375 291.121094 366.484375 C 296.640625 366.484375 301.121094 370.960938 301.121094 376.484375 \"/>\n",
       "<path style=\"fill-rule:nonzero;fill:rgb(100%,0%,0%);fill-opacity:1;stroke-width:1;stroke-linecap:butt;stroke-linejoin:miter;stroke:rgb(0%,0%,0%);stroke-opacity:1;stroke-miterlimit:10;\" d=\"M 172.234375 182.023438 C 172.234375 187.546875 167.753906 192.023438 162.234375 192.023438 C 156.710938 192.023438 152.234375 187.546875 152.234375 182.023438 C 152.234375 176.503906 156.710938 172.023438 162.234375 172.023438 C 167.753906 172.023438 172.234375 176.503906 172.234375 182.023438 \"/>\n",
       "<path style=\"fill-rule:nonzero;fill:rgb(100%,0%,0%);fill-opacity:1;stroke-width:1;stroke-linecap:butt;stroke-linejoin:miter;stroke:rgb(0%,0%,0%);stroke-opacity:1;stroke-miterlimit:10;\" d=\"M 485.722656 383.363281 C 485.722656 388.886719 481.246094 393.363281 475.722656 393.363281 C 470.199219 393.363281 465.722656 388.886719 465.722656 383.363281 C 465.722656 377.84375 470.199219 373.363281 475.722656 373.363281 C 481.246094 373.363281 485.722656 377.84375 485.722656 383.363281 \"/>\n",
       "<path style=\"fill-rule:nonzero;fill:rgb(100%,0%,0%);fill-opacity:1;stroke-width:1;stroke-linecap:butt;stroke-linejoin:miter;stroke:rgb(0%,0%,0%);stroke-opacity:1;stroke-miterlimit:10;\" d=\"M 543.265625 425.015625 C 543.265625 430.539063 538.789063 435.015625 533.265625 435.015625 C 527.742188 435.015625 523.265625 430.539063 523.265625 425.015625 C 523.265625 419.492188 527.742188 415.015625 533.265625 415.015625 C 538.789063 415.015625 543.265625 419.492188 543.265625 425.015625 \"/>\n",
       "<path style=\"fill-rule:nonzero;fill:rgb(100%,0%,0%);fill-opacity:1;stroke-width:1;stroke-linecap:butt;stroke-linejoin:miter;stroke:rgb(0%,0%,0%);stroke-opacity:1;stroke-miterlimit:10;\" d=\"M 187.261719 45.96875 C 187.261719 51.492188 182.785156 55.96875 177.261719 55.96875 C 171.742188 55.96875 167.261719 51.492188 167.261719 45.96875 C 167.261719 40.445313 171.742188 35.96875 177.261719 35.96875 C 182.785156 35.96875 187.261719 40.445313 187.261719 45.96875 \"/>\n",
       "<path style=\"fill-rule:nonzero;fill:rgb(100%,0%,0%);fill-opacity:1;stroke-width:1;stroke-linecap:butt;stroke-linejoin:miter;stroke:rgb(0%,0%,0%);stroke-opacity:1;stroke-miterlimit:10;\" d=\"M 411.15625 300.652344 C 411.15625 306.175781 406.679688 310.652344 401.15625 310.652344 C 395.636719 310.652344 391.15625 306.175781 391.15625 300.652344 C 391.15625 295.128906 395.636719 290.652344 401.15625 290.652344 C 406.679688 290.652344 411.15625 295.128906 411.15625 300.652344 \"/>\n",
       "<path style=\"fill-rule:nonzero;fill:rgb(100%,0%,0%);fill-opacity:1;stroke-width:1;stroke-linecap:butt;stroke-linejoin:miter;stroke:rgb(0%,0%,0%);stroke-opacity:1;stroke-miterlimit:10;\" d=\"M 486.386719 222.910156 C 486.386719 228.433594 481.910156 232.910156 476.386719 232.910156 C 470.863281 232.910156 466.386719 228.433594 466.386719 222.910156 C 466.386719 217.386719 470.863281 212.910156 476.386719 212.910156 C 481.910156 212.910156 486.386719 217.386719 486.386719 222.910156 \"/>\n",
       "<path style=\"fill-rule:nonzero;fill:rgb(100%,0%,0%);fill-opacity:1;stroke-width:1;stroke-linecap:butt;stroke-linejoin:miter;stroke:rgb(0%,0%,0%);stroke-opacity:1;stroke-miterlimit:10;\" d=\"M 376.445313 580 C 376.445313 585.523438 371.96875 590 366.445313 590 C 360.921875 590 356.445313 585.523438 356.445313 580 C 356.445313 574.476563 360.921875 570 366.445313 570 C 371.96875 570 376.445313 574.476563 376.445313 580 \"/>\n",
       "<path style=\"fill-rule:nonzero;fill:rgb(100%,0%,0%);fill-opacity:1;stroke-width:1;stroke-linecap:butt;stroke-linejoin:miter;stroke:rgb(0%,0%,0%);stroke-opacity:1;stroke-miterlimit:10;\" d=\"M 336.355469 519.355469 C 336.355469 524.878906 331.878906 529.355469 326.355469 529.355469 C 320.832031 529.355469 316.355469 524.878906 316.355469 519.355469 C 316.355469 513.832031 320.832031 509.355469 326.355469 509.355469 C 331.878906 509.355469 336.355469 513.832031 336.355469 519.355469 \"/>\n",
       "<path style=\"fill-rule:nonzero;fill:rgb(100%,0%,0%);fill-opacity:1;stroke-width:1;stroke-linecap:butt;stroke-linejoin:miter;stroke:rgb(0%,0%,0%);stroke-opacity:1;stroke-miterlimit:10;\" d=\"M 395.0625 524.261719 C 395.0625 529.785156 390.585938 534.261719 385.0625 534.261719 C 379.539063 534.261719 375.0625 529.785156 375.0625 524.261719 C 375.0625 518.742188 379.539063 514.261719 385.0625 514.261719 C 390.585938 514.261719 395.0625 518.742188 395.0625 524.261719 \"/>\n",
       "<path style=\"fill-rule:nonzero;fill:rgb(100%,0%,0%);fill-opacity:1;stroke-width:1;stroke-linecap:butt;stroke-linejoin:miter;stroke:rgb(0%,0%,0%);stroke-opacity:1;stroke-miterlimit:10;\" d=\"M 379.164063 111.359375 C 379.164063 116.882813 374.6875 121.359375 369.164063 121.359375 C 363.640625 121.359375 359.164063 116.882813 359.164063 111.359375 C 359.164063 105.835938 363.640625 101.359375 369.164063 101.359375 C 374.6875 101.359375 379.164063 105.835938 379.164063 111.359375 \"/>\n",
       "<path style=\"fill-rule:nonzero;fill:rgb(100%,0%,0%);fill-opacity:1;stroke-width:1;stroke-linecap:butt;stroke-linejoin:miter;stroke:rgb(0%,0%,0%);stroke-opacity:1;stroke-miterlimit:10;\" d=\"M 117.804688 376.546875 C 117.804688 382.070313 113.328125 386.546875 107.804688 386.546875 C 102.285156 386.546875 97.804688 382.070313 97.804688 376.546875 C 97.804688 371.023438 102.285156 366.546875 107.804688 366.546875 C 113.328125 366.546875 117.804688 371.023438 117.804688 376.546875 \"/>\n",
       "<path style=\"fill-rule:nonzero;fill:rgb(100%,0%,0%);fill-opacity:1;stroke-width:1;stroke-linecap:butt;stroke-linejoin:miter;stroke:rgb(0%,0%,0%);stroke-opacity:1;stroke-miterlimit:10;\" d=\"M 58.9375 432.105469 C 58.9375 437.625 54.460938 442.105469 48.9375 442.105469 C 43.414063 442.105469 38.9375 437.625 38.9375 432.105469 C 38.9375 426.582031 43.414063 422.105469 48.9375 422.105469 C 54.460938 422.105469 58.9375 426.582031 58.9375 432.105469 \"/>\n",
       "<path style=\"fill-rule:nonzero;fill:rgb(100%,0%,0%);fill-opacity:1;stroke-width:1;stroke-linecap:butt;stroke-linejoin:miter;stroke:rgb(0%,0%,0%);stroke-opacity:1;stroke-miterlimit:10;\" d=\"M 65.425781 375.140625 C 65.425781 380.664063 60.949219 385.140625 55.425781 385.140625 C 49.902344 385.140625 45.425781 380.664063 45.425781 375.140625 C 45.425781 369.617188 49.902344 365.140625 55.425781 365.140625 C 60.949219 365.140625 65.425781 369.617188 65.425781 375.140625 \"/>\n",
       "<path style=\"fill-rule:nonzero;fill:rgb(100%,0%,0%);fill-opacity:1;stroke-width:1;stroke-linecap:butt;stroke-linejoin:miter;stroke:rgb(0%,0%,0%);stroke-opacity:1;stroke-miterlimit:10;\" d=\"M 395.871094 38.863281 C 395.871094 44.386719 391.394531 48.863281 385.871094 48.863281 C 380.347656 48.863281 375.871094 44.386719 375.871094 38.863281 C 375.871094 33.339844 380.347656 28.863281 385.871094 28.863281 C 391.394531 28.863281 395.871094 33.339844 395.871094 38.863281 \"/>\n",
       "<path style=\"fill-rule:nonzero;fill:rgb(100%,0%,0%);fill-opacity:1;stroke-width:1;stroke-linecap:butt;stroke-linejoin:miter;stroke:rgb(0%,0%,0%);stroke-opacity:1;stroke-miterlimit:10;\" d=\"M 93.621094 113.4375 C 93.621094 118.960938 89.144531 123.4375 83.621094 123.4375 C 78.097656 123.4375 73.621094 118.960938 73.621094 113.4375 C 73.621094 107.917969 78.097656 103.4375 83.621094 103.4375 C 89.144531 103.4375 93.621094 107.917969 93.621094 113.4375 \"/>\n",
       "<path style=\"fill-rule:nonzero;fill:rgb(100%,0%,0%);fill-opacity:1;stroke-width:1;stroke-linecap:butt;stroke-linejoin:miter;stroke:rgb(0%,0%,0%);stroke-opacity:1;stroke-miterlimit:10;\" d=\"M 373.78125 221.988281 C 373.78125 227.511719 369.304688 231.988281 363.78125 231.988281 C 358.257813 231.988281 353.78125 227.511719 353.78125 221.988281 C 353.78125 216.464844 358.257813 211.988281 363.78125 211.988281 C 369.304688 211.988281 373.78125 216.464844 373.78125 221.988281 \"/>\n",
       "<path style=\"fill-rule:nonzero;fill:rgb(100%,0%,0%);fill-opacity:1;stroke-width:1;stroke-linecap:butt;stroke-linejoin:miter;stroke:rgb(0%,0%,0%);stroke-opacity:1;stroke-miterlimit:10;\" d=\"M 121.070313 160.945313 C 121.070313 166.46875 116.59375 170.945313 111.070313 170.945313 C 105.546875 170.945313 101.070313 166.46875 101.070313 160.945313 C 101.070313 155.421875 105.546875 150.945313 111.070313 150.945313 C 116.59375 150.945313 121.070313 155.421875 121.070313 160.945313 \"/>\n",
       "<path style=\"fill-rule:nonzero;fill:rgb(100%,0%,0%);fill-opacity:1;stroke-width:1;stroke-linecap:butt;stroke-linejoin:miter;stroke:rgb(0%,0%,0%);stroke-opacity:1;stroke-miterlimit:10;\" d=\"M 45.433594 318.761719 C 45.433594 324.285156 40.953125 328.761719 35.433594 328.761719 C 29.910156 328.761719 25.433594 324.285156 25.433594 318.761719 C 25.433594 313.238281 29.910156 308.761719 35.433594 308.761719 C 40.953125 308.761719 45.433594 313.238281 45.433594 318.761719 \"/>\n",
       "<path style=\"fill-rule:nonzero;fill:rgb(100%,0%,0%);fill-opacity:1;stroke-width:1;stroke-linecap:butt;stroke-linejoin:miter;stroke:rgb(0%,0%,0%);stroke-opacity:1;stroke-miterlimit:10;\" d=\"M 428.789063 244.242188 C 428.789063 249.765625 424.3125 254.242188 418.789063 254.242188 C 413.269531 254.242188 408.789063 249.765625 408.789063 244.242188 C 408.789063 238.71875 413.269531 234.242188 418.789063 234.242188 C 424.3125 234.242188 428.789063 238.71875 428.789063 244.242188 \"/>\n",
       "<path style=\"fill-rule:nonzero;fill:rgb(100%,0%,0%);fill-opacity:1;stroke-width:1;stroke-linecap:butt;stroke-linejoin:miter;stroke:rgb(0%,0%,0%);stroke-opacity:1;stroke-miterlimit:10;\" d=\"M 433.910156 88.605469 C 433.910156 94.128906 429.433594 98.605469 423.910156 98.605469 C 418.386719 98.605469 413.910156 94.128906 413.910156 88.605469 C 413.910156 83.082031 418.386719 78.605469 423.910156 78.605469 C 429.433594 78.605469 433.910156 83.082031 433.910156 88.605469 \"/>\n",
       "<path style=\"fill-rule:nonzero;fill:rgb(100%,0%,0%);fill-opacity:1;stroke-width:1;stroke-linecap:butt;stroke-linejoin:miter;stroke:rgb(0%,0%,0%);stroke-opacity:1;stroke-miterlimit:10;\" d=\"M 231.089844 575.722656 C 231.089844 581.246094 226.613281 585.722656 221.089844 585.722656 C 215.570313 585.722656 211.089844 581.246094 211.089844 575.722656 C 211.089844 570.203125 215.570313 565.722656 221.089844 565.722656 C 226.613281 565.722656 231.089844 570.203125 231.089844 575.722656 \"/>\n",
       "<path style=\"fill-rule:nonzero;fill:rgb(100%,0%,0%);fill-opacity:1;stroke-width:1;stroke-linecap:butt;stroke-linejoin:miter;stroke:rgb(0%,0%,0%);stroke-opacity:1;stroke-miterlimit:10;\" d=\"M 191.207031 535.953125 C 191.207031 541.476563 186.730469 545.953125 181.207031 545.953125 C 175.683594 545.953125 171.207031 541.476563 171.207031 535.953125 C 171.207031 530.429688 175.683594 525.953125 181.207031 525.953125 C 186.730469 525.953125 191.207031 530.429688 191.207031 535.953125 \"/>\n",
       "<path style=\"fill-rule:nonzero;fill:rgb(100%,0%,0%);fill-opacity:1;stroke-width:1;stroke-linecap:butt;stroke-linejoin:miter;stroke:rgb(0%,0%,0%);stroke-opacity:1;stroke-miterlimit:10;\" d=\"M 221.226563 490.933594 C 221.226563 496.457031 216.75 500.933594 211.226563 500.933594 C 205.707031 500.933594 201.226563 496.457031 201.226563 490.933594 C 201.226563 485.410156 205.707031 480.933594 211.226563 480.933594 C 216.75 480.933594 221.226563 485.410156 221.226563 490.933594 \"/>\n",
       "<path style=\"fill-rule:nonzero;fill:rgb(100%,0%,0%);fill-opacity:1;stroke-width:1;stroke-linecap:butt;stroke-linejoin:miter;stroke:rgb(0%,0%,0%);stroke-opacity:1;stroke-miterlimit:10;\" d=\"M 539.273438 360.40625 C 539.273438 365.925781 534.796875 370.40625 529.273438 370.40625 C 523.753906 370.40625 519.273438 365.925781 519.273438 360.40625 C 519.273438 354.882813 523.753906 350.40625 529.273438 350.40625 C 534.796875 350.40625 539.273438 354.882813 539.273438 360.40625 \"/>\n",
       "<path style=\"fill-rule:nonzero;fill:rgb(100%,0%,0%);fill-opacity:1;stroke-width:1;stroke-linecap:butt;stroke-linejoin:miter;stroke:rgb(0%,0%,0%);stroke-opacity:1;stroke-miterlimit:10;\" d=\"M 486.101563 128.378906 C 486.101563 133.902344 481.625 138.378906 476.101563 138.378906 C 470.578125 138.378906 466.101563 133.902344 466.101563 128.378906 C 466.101563 122.855469 470.578125 118.378906 476.101563 118.378906 C 481.625 118.378906 486.101563 122.855469 486.101563 128.378906 \"/>\n",
       "<path style=\"fill-rule:nonzero;fill:rgb(100%,0%,0%);fill-opacity:1;stroke-width:1;stroke-linecap:butt;stroke-linejoin:miter;stroke:rgb(0%,0%,0%);stroke-opacity:1;stroke-miterlimit:10;\" d=\"M 402.1875 465.238281 C 402.1875 470.761719 397.710938 475.238281 392.1875 475.238281 C 386.664063 475.238281 382.1875 470.761719 382.1875 465.238281 C 382.1875 459.714844 386.664063 455.238281 392.1875 455.238281 C 397.710938 455.238281 402.1875 459.714844 402.1875 465.238281 \"/>\n",
       "<path style=\"fill-rule:nonzero;fill:rgb(100%,0%,0%);fill-opacity:1;stroke-width:1;stroke-linecap:butt;stroke-linejoin:miter;stroke:rgb(0%,0%,0%);stroke-opacity:1;stroke-miterlimit:10;\" d=\"M 590 342.5 C 590 348.019531 585.523438 352.5 580 352.5 C 574.476563 352.5 570 348.019531 570 342.5 C 570 336.976563 574.476563 332.5 580 332.5 C 585.523438 332.5 590 336.976563 590 342.5 \"/>\n",
       "<path style=\"fill-rule:nonzero;fill:rgb(100%,0%,0%);fill-opacity:1;stroke-width:1;stroke-linecap:butt;stroke-linejoin:miter;stroke:rgb(0%,0%,0%);stroke-opacity:1;stroke-miterlimit:10;\" d=\"M 482.546875 64.046875 C 482.546875 69.570313 478.070313 74.046875 472.546875 74.046875 C 467.023438 74.046875 462.546875 69.570313 462.546875 64.046875 C 462.546875 58.523438 467.023438 54.046875 472.546875 54.046875 C 478.070313 54.046875 482.546875 58.523438 482.546875 64.046875 \"/>\n",
       "<path style=\"fill-rule:nonzero;fill:rgb(100%,0%,0%);fill-opacity:1;stroke-width:1;stroke-linecap:butt;stroke-linejoin:miter;stroke:rgb(0%,0%,0%);stroke-opacity:1;stroke-miterlimit:10;\" d=\"M 30 267.171875 C 30 272.695313 25.523438 277.171875 20 277.171875 C 14.476563 277.171875 10 272.695313 10 267.171875 C 10 261.648438 14.476563 257.171875 20 257.171875 C 25.523438 257.171875 30 261.648438 30 267.171875 \"/>\n",
       "<path style=\"fill-rule:nonzero;fill:rgb(100%,0%,0%);fill-opacity:1;stroke-width:1;stroke-linecap:butt;stroke-linejoin:miter;stroke:rgb(0%,0%,0%);stroke-opacity:1;stroke-miterlimit:10;\" d=\"M 258.714844 112.996094 C 258.714844 118.519531 254.238281 122.996094 248.714844 122.996094 C 243.191406 122.996094 238.714844 118.519531 238.714844 112.996094 C 238.714844 107.472656 243.191406 102.996094 248.714844 102.996094 C 254.238281 102.996094 258.714844 107.472656 258.714844 112.996094 \"/>\n",
       "<path style=\"fill-rule:nonzero;fill:rgb(100%,0%,0%);fill-opacity:1;stroke-width:1;stroke-linecap:butt;stroke-linejoin:miter;stroke:rgb(0%,0%,0%);stroke-opacity:1;stroke-miterlimit:10;\" d=\"M 239.957031 58.960938 C 239.957031 64.484375 235.480469 68.960938 229.957031 68.960938 C 224.433594 68.960938 219.957031 64.484375 219.957031 58.960938 C 219.957031 53.4375 224.433594 48.960938 229.957031 48.960938 C 235.480469 48.960938 239.957031 53.4375 239.957031 58.960938 \"/>\n",
       "<path style=\"fill-rule:nonzero;fill:rgb(100%,0%,0%);fill-opacity:1;stroke-width:1;stroke-linecap:butt;stroke-linejoin:miter;stroke:rgb(0%,0%,0%);stroke-opacity:1;stroke-miterlimit:10;\" d=\"M 278.617188 20 C 278.617188 25.523438 274.140625 30 268.617188 30 C 263.09375 30 258.617188 25.523438 258.617188 20 C 258.617188 14.476563 263.09375 10 268.617188 10 C 274.140625 10 278.617188 14.476563 278.617188 20 \"/>\n",
       "</g>\n",
       "</svg>\n"
      ],
      "text/plain": [
       "<igraph.drawing.Plot at 0x1e12e4d2908>"
      ]
     },
     "execution_count": 401,
     "metadata": {
      "image/svg+xml": {
       "isolated": true
      }
     },
     "output_type": "execute_result"
    }
   ],
   "source": [
    "#visualização\n",
    "\n",
    "g = Graph()\n",
    "n_vertices = len(alunos)\n",
    "g.add_vertices(n_vertices)\n",
    "edges = []\n",
    "\n",
    "for grupo in solucao:\n",
    "    for aresta in grupo.arestas:\n",
    "        edges.append((aresta.aluno1.codigo_aluno-1, aresta.aluno2.codigo_aluno-1))\n",
    "\n",
    "g.add_edges(edges)        \n",
    "plot(g)"
   ]
  },
  {
   "cell_type": "code",
   "execution_count": null,
   "metadata": {},
   "outputs": [],
   "source": []
  }
 ],
 "metadata": {
  "kernelspec": {
   "display_name": "Python 3",
   "language": "python",
   "name": "python3"
  },
  "language_info": {
   "codemirror_mode": {
    "name": "ipython",
    "version": 3
   },
   "file_extension": ".py",
   "mimetype": "text/x-python",
   "name": "python",
   "nbconvert_exporter": "python",
   "pygments_lexer": "ipython3",
   "version": "3.7.7"
  }
 },
 "nbformat": 4,
 "nbformat_minor": 4
}
