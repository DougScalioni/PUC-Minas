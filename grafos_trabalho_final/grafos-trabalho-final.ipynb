{
 "cells": [
  {
   "cell_type": "code",
   "execution_count": 75,
   "metadata": {},
   "outputs": [],
   "source": [
    "from igraph import *\n",
    "import numpy as np"
   ]
  },
  {
   "cell_type": "code",
   "execution_count": 76,
   "metadata": {},
   "outputs": [],
   "source": [
    "class Aluno(object):\n",
    "    def __init__(self, codigo, area):\n",
    "        self.codigo_aluno = codigo\n",
    "        self.area_pesquisa = area\n",
    "    \n",
    "    def __repr__(self):\n",
    "        to_string = \"Código Aluno: \" + str(self.codigo_aluno)\n",
    "        to_string += \", Área de Pesquisa: \" + str(self.area_pesquisa)\n",
    "        return to_string\n",
    "        "
   ]
  },
  {
   "cell_type": "code",
   "execution_count": 80,
   "metadata": {},
   "outputs": [
    {
     "data": {
      "text/plain": [
       "[Código Aluno: 1, Área de Pesquisa: 1,\n",
       " Código Aluno: 2, Área de Pesquisa: 1,\n",
       " Código Aluno: 3, Área de Pesquisa: 3,\n",
       " Código Aluno: 4, Área de Pesquisa: 2,\n",
       " Código Aluno: 5, Área de Pesquisa: 2,\n",
       " Código Aluno: 6, Área de Pesquisa: 3,\n",
       " Código Aluno: 7, Área de Pesquisa: 1,\n",
       " Código Aluno: 8, Área de Pesquisa: 1,\n",
       " Código Aluno: 9, Área de Pesquisa: 3,\n",
       " Código Aluno: 10, Área de Pesquisa: 2,\n",
       " Código Aluno: 11, Área de Pesquisa: 2]"
      ]
     },
     "execution_count": 80,
     "metadata": {},
     "output_type": "execute_result"
    }
   ],
   "source": [
    "file = open('Aluno_Area_Pesquisa.txt', 'r').read()\n",
    "lines = file.split('\\n')\n",
    "alunos = []\n",
    "for line in lines:\n",
    "    line = line.split(' ')\n",
    "    codigo_aluno = int(line[0])\n",
    "    area_pesquisa = int(line[1])\n",
    "    a = Aluno(codigo_aluno, area_pesquisa)\n",
    "    alunos.append(a)\n",
    "alunos"
   ]
  },
  {
   "cell_type": "code",
   "execution_count": 70,
   "metadata": {},
   "outputs": [],
   "source": [
    "def completa_matriz(matriz_triangulo):\n",
    "    matriz_triangulo.sort(key=len, reverse=True)\n",
    "    lado = len(matriz_triangulo)\n",
    "    matriz = np.zeros((lado, lado))\n",
    "    for i in range(lado):\n",
    "        for j in range(len(matriz_triangulo[i])):\n",
    "            matriz[i][i+j] = matriz_triangulo[i][j]\n",
    "            matriz[i+j][i] = matriz_triangulo[i][j]\n",
    "    return matriz\n",
    "    "
   ]
  },
  {
   "cell_type": "code",
   "execution_count": 71,
   "metadata": {},
   "outputs": [
    {
     "name": "stdout",
     "output_type": "stream",
     "text": [
      "[[ 0. 80. 10.]\n",
      " [80.  0. 80.]\n",
      " [10. 80.  0.]]\n"
     ]
    }
   ],
   "source": [
    "file = open('Matriz_Dissimilaridade.txt', 'r').read()\n",
    "lines = file.split('\\n')\n",
    "matriz_triangulo = []\n",
    "for l in lines:\n",
    "    l = l.split(' ')\n",
    "    l = list(filter(None, l))\n",
    "    matriz_triangulo.append(l)\n",
    "matriz = completa_matriz(matriz_triangulo)\n",
    "matriz"
   ]
  },
  {
   "cell_type": "code",
   "execution_count": 89,
   "metadata": {},
   "outputs": [],
   "source": [
    "def dist_aluno(aluno1, aluno2):\n",
    "    area1 = aluno1.area_pesquisa\n",
    "    area2 = aluno2.area_pesquisa\n",
    "    return matriz[area1-1][area2-1]\n",
    "    "
   ]
  },
  {
   "cell_type": "code",
   "execution_count": 90,
   "metadata": {},
   "outputs": [
    {
     "data": {
      "text/plain": [
       "10.0"
      ]
     },
     "execution_count": 90,
     "metadata": {},
     "output_type": "execute_result"
    }
   ],
   "source": [
    "dist_aluno(alunos[0],alunos[2])"
   ]
  },
  {
   "cell_type": "code",
   "execution_count": 98,
   "metadata": {},
   "outputs": [],
   "source": [
    "class Grafo(object):\n",
    "    def __init__(self, vertices, arestas):\n",
    "        self.vertices = vertices\n",
    "        self.arestas = arestas\n",
    "    \n",
    "    "
   ]
  },
  {
   "cell_type": "code",
   "execution_count": 91,
   "metadata": {},
   "outputs": [],
   "source": [
    "def dist_grafo(grafo1, grafo2):\n",
    "    sum_dist = 0\n",
    "    for aluno1 in grafo1.vertices:\n",
    "        for aluno2 in grafo2.vertices:\n",
    "            sum_dist += dist_aluno(aluno1, aluno2)\n",
    "    n = len(grafo1.vertices)\n",
    "    m = len(grafo2.vertices)\n",
    "    media_dist = sum_dist/(n*m)\n",
    "    return media_dist\n",
    "        "
   ]
  },
  {
   "cell_type": "code",
   "execution_count": 102,
   "metadata": {},
   "outputs": [
    {
     "data": {
      "text/plain": [
       "39.333333333333336"
      ]
     },
     "execution_count": 102,
     "metadata": {},
     "output_type": "execute_result"
    }
   ],
   "source": [
    "alunos1 = alunos[:5]\n",
    "alunos2 = alunos[5:]\n",
    "#alunos1, alunos2\n",
    "grafo1 = Grafo(alunos1,[])\n",
    "grafo2 = Grafo(alunos2,[])\n",
    "dist_grafo(grafo1, grafo2)"
   ]
  }
 ],
 "metadata": {
  "kernelspec": {
   "display_name": "Python 3",
   "language": "python",
   "name": "python3"
  },
  "language_info": {
   "codemirror_mode": {
    "name": "ipython",
    "version": 3
   },
   "file_extension": ".py",
   "mimetype": "text/x-python",
   "name": "python",
   "nbconvert_exporter": "python",
   "pygments_lexer": "ipython3",
   "version": "3.7.7"
  }
 },
 "nbformat": 4,
 "nbformat_minor": 4
}
