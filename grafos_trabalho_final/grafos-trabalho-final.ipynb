{
 "cells": [
  {
   "cell_type": "markdown",
   "metadata": {},
   "source": [
    "# Algoritmos Computacionais em Grafos - Trabalho Final\n",
    "\n",
    "**PUC Minas**\n",
    "\n",
    "**Engenharia de Software**\n",
    "\n",
    "**Prof Joyce**\n",
    "\n",
    "* Bruno Armanelli\n",
    "* Douglas Domingues\n",
    "* Henrique Freire\n",
    "* Luiz Antunes"
   ]
  },
  {
   "cell_type": "markdown",
   "metadata": {},
   "source": [
    "## 0) Imports\n",
    "\n",
    "A grande parte do código é python nativo. \n",
    "\n",
    "Para apenas um detalhe foi usado numpy, ao ler a matriz de dissimilaridade.\n",
    "\n",
    "A biblioteca igraph foi usada ao final para visualizar os grafos."
   ]
  },
  {
   "cell_type": "code",
   "execution_count": 337,
   "metadata": {},
   "outputs": [],
   "source": [
    "from igraph import *\n",
    "import numpy as np"
   ]
  },
  {
   "cell_type": "markdown",
   "metadata": {},
   "source": [
    "## 1) Classes\n",
    "\n",
    "#### Aluno\n",
    "    Os alunos são os vértices dos grafos. Possuem código de aluno e área de pesquisa. São lidos a partir do arquivo 'Aluno_Area_Pesquisa.txt'\n",
    "    \n",
    "#### Arestas\n",
    "    As arestas possuem aluno1 e aluno2, correspondendo aos alunos que conectam, e o peso. As arestas são colocadas entre os alunos mais próximos em um grupo automaticamente na inserção.\n",
    "    \n",
    "#### Grafo\n",
    "    O grafo contem uma lista de Aluno e uma lista de Aresta. Nele estão as operações de adição de vértice (aluno), o número de alunos e o cálculo do grau de diferença."
   ]
  },
  {
   "cell_type": "code",
   "execution_count": 338,
   "metadata": {},
   "outputs": [],
   "source": [
    "class Aluno(object):\n",
    "    def __init__(self, codigo, area):\n",
    "        self.codigo_aluno = codigo\n",
    "        self.area_pesquisa = area\n",
    "    \n",
    "    def __repr__(self):\n",
    "        to_string = \"\\nCódigo Aluno: \" + str(self.codigo_aluno)\n",
    "        to_string += \", Área de Pesquisa: \" + str(self.area_pesquisa)\n",
    "        return to_string \n",
    "        "
   ]
  },
  {
   "cell_type": "code",
   "execution_count": 344,
   "metadata": {},
   "outputs": [],
   "source": [
    "class Aresta(object):\n",
    "    def __init__(self, aluno1, aluno2, peso):\n",
    "        self.aluno1 = aluno1\n",
    "        self.aluno2 = aluno2\n",
    "        self.peso = peso\n",
    "        \n",
    "        \n",
    "    def __repr__(self):\n",
    "        to_string = '\\n('+str(self.aluno1.codigo_aluno)+', '\n",
    "        to_string += str(self.aluno2.codigo_aluno)+', '\n",
    "        to_string += str(self.peso)+')'\n",
    "        return to_string "
   ]
  },
  {
   "cell_type": "code",
   "execution_count": 345,
   "metadata": {},
   "outputs": [],
   "source": [
    "class Grafo(object):\n",
    "    \n",
    "    vertices = []\n",
    "    arestas = []\n",
    "    \n",
    "    def __init__(self, vertices, arestas):\n",
    "        self.vertices = vertices\n",
    "        self.arestas = arestas\n",
    "\n",
    "        \n",
    "    def add(self, aluno):\n",
    "        mais_prox = self.vertices[0]\n",
    "        dist_min = dist_aluno(aluno, mais_prox)\n",
    "        for v in self.vertices:\n",
    "            dist = dist_aluno(aluno, v)\n",
    "            if dist < dist_min:\n",
    "                dist_min = dist\n",
    "                mais_prox = v\n",
    "        self.vertices.append(aluno)\n",
    "        aresta = Aresta(aluno, mais_prox, dist_min)\n",
    "        self.arestas.append(aresta)\n",
    "        \n",
    "    \n",
    "    def diferenca(self):\n",
    "        diferenca = 0\n",
    "        for v in self.arestas:\n",
    "            diferenca += v.peso\n",
    "        return diferenca\n",
    "            \n",
    "        \n",
    "    def grau(self):\n",
    "        return len(self.vertices)\n",
    "    \n",
    "            \n",
    "    def __repr__(self):\n",
    "        return str(self.vertices) + '\\n'+ str(self.arestas)\n",
    "    "
   ]
  },
  {
   "cell_type": "markdown",
   "metadata": {},
   "source": [
    "## 2) Leitura dos arquivos\n",
    "\n",
    "Na leitura do arquivo 'Aluno_Area_Pesquisa.txt', as linhas são usadas para instanciar os alunos, e a lista alunos é criada.\n",
    "\n",
    "Na leitura do arquivo 'Matriz_Dissimilaridade.txt', a matriz triangular é transformada numa matriz simétrica para facilitar o cálculo de distâncias entre as áreas de pesquisa."
   ]
  },
  {
   "cell_type": "code",
   "execution_count": 339,
   "metadata": {},
   "outputs": [
    {
     "data": {
      "text/plain": [
       "[\n",
       " Código Aluno: 1, Área de Pesquisa: 1,\n",
       " \n",
       " Código Aluno: 2, Área de Pesquisa: 1,\n",
       " \n",
       " Código Aluno: 3, Área de Pesquisa: 3,\n",
       " \n",
       " Código Aluno: 4, Área de Pesquisa: 2,\n",
       " \n",
       " Código Aluno: 5, Área de Pesquisa: 2,\n",
       " \n",
       " Código Aluno: 6, Área de Pesquisa: 3,\n",
       " \n",
       " Código Aluno: 7, Área de Pesquisa: 1,\n",
       " \n",
       " Código Aluno: 8, Área de Pesquisa: 1,\n",
       " \n",
       " Código Aluno: 9, Área de Pesquisa: 3,\n",
       " \n",
       " Código Aluno: 10, Área de Pesquisa: 2,\n",
       " \n",
       " Código Aluno: 11, Área de Pesquisa: 2]"
      ]
     },
     "execution_count": 339,
     "metadata": {},
     "output_type": "execute_result"
    }
   ],
   "source": [
    "file = open('Aluno_Area_Pesquisa.txt', 'r').read()\n",
    "lines = file.split('\\n')\n",
    "alunos = []\n",
    "for line in lines:\n",
    "    line = line.split(' ')\n",
    "    codigo_aluno = int(line[0])\n",
    "    area_pesquisa = int(line[1])\n",
    "    a = Aluno(codigo_aluno, area_pesquisa)\n",
    "    alunos.append(a)\n",
    "alunos"
   ]
  },
  {
   "cell_type": "code",
   "execution_count": 340,
   "metadata": {},
   "outputs": [],
   "source": [
    "def completa_matriz(matriz_triangulo):\n",
    "    matriz_triangulo.sort(key=len, reverse=True)\n",
    "    lado = len(matriz_triangulo)\n",
    "    matriz = np.zeros((lado, lado))\n",
    "    for i in range(lado):\n",
    "        for j in range(len(matriz_triangulo[i])):\n",
    "            matriz[i][i+j] = matriz_triangulo[i][j]\n",
    "            matriz[i+j][i] = matriz_triangulo[i][j]\n",
    "    return matriz\n",
    "    "
   ]
  },
  {
   "cell_type": "code",
   "execution_count": 341,
   "metadata": {},
   "outputs": [
    {
     "data": {
      "text/plain": [
       "array([[ 0., 80., 10.],\n",
       "       [80.,  0., 50.],\n",
       "       [10., 50.,  0.]])"
      ]
     },
     "execution_count": 341,
     "metadata": {},
     "output_type": "execute_result"
    }
   ],
   "source": [
    "file = open('Matriz_Dissimilaridade.txt', 'r').read()\n",
    "lines = file.split('\\n')\n",
    "matriz_triangulo = []\n",
    "for l in lines:\n",
    "    l = l.split(' ')\n",
    "    l = list(filter(None, l))\n",
    "    matriz_triangulo.append(l)\n",
    "matriz = completa_matriz(matriz_triangulo)\n",
    "matriz"
   ]
  },
  {
   "cell_type": "markdown",
   "metadata": {},
   "source": [
    "## 3) Distâncias\n",
    "\n",
    "Primeiro se define a distância entre dois alunos, baseado em suas areas de pesquisa e na matriz de dissimilaridade.\n",
    "\n",
    "Então, é definida a distância entre dois grafos, que é a média das distâncias entre alunos de cada grafo."
   ]
  },
  {
   "cell_type": "code",
   "execution_count": 342,
   "metadata": {},
   "outputs": [],
   "source": [
    "def dist_aluno(aluno1, aluno2):\n",
    "    area1 = aluno1.area_pesquisa\n",
    "    area2 = aluno2.area_pesquisa\n",
    "    return matriz[area1-1][area2-1]\n",
    "    "
   ]
  },
  {
   "cell_type": "code",
   "execution_count": 346,
   "metadata": {},
   "outputs": [],
   "source": [
    "def dist_grafo(grafo1, grafo2):\n",
    "    sum_dist = 0\n",
    "    for aluno1 in grafo1.vertices:\n",
    "        for aluno2 in grafo2.vertices:\n",
    "            sum_dist += dist_aluno(aluno1, aluno2)\n",
    "    n = len(grafo1.vertices)\n",
    "    m = len(grafo2.vertices)\n",
    "    media_dist = sum_dist/(n*m)\n",
    "    return media_dist\n",
    "        "
   ]
  },
  {
   "cell_type": "code",
   "execution_count": 347,
   "metadata": {},
   "outputs": [
    {
     "name": "stdout",
     "output_type": "stream",
     "text": [
      "0\n"
     ]
    },
    {
     "data": {
      "text/plain": [
       "33.333333333333336"
      ]
     },
     "execution_count": 347,
     "metadata": {},
     "output_type": "execute_result"
    }
   ],
   "source": [
    "alunos1 = alunos[:5]\n",
    "alunos2 = alunos[5:]\n",
    "#print(alunos1, alunos2)\n",
    "grafo1 = Grafo(alunos1, [])\n",
    "grafo2 = Grafo(alunos2, [])\n",
    "print(grafo1.diferenca())\n",
    "dist_grafo(grafo1, grafo2)"
   ]
  },
  {
   "cell_type": "code",
   "execution_count": 348,
   "metadata": {},
   "outputs": [
    {
     "data": {
      "text/plain": [
       "[\n",
       "Código Aluno: 1, Área de Pesquisa: 1, \n",
       "Código Aluno: 2, Área de Pesquisa: 1, \n",
       "Código Aluno: 3, Área de Pesquisa: 3, \n",
       "Código Aluno: 4, Área de Pesquisa: 2]\n",
       "[\n",
       "(2, 1, 0.0), \n",
       "(3, 1, 10.0), \n",
       "(4, 3, 50.0)]"
      ]
     },
     "execution_count": 348,
     "metadata": {},
     "output_type": "execute_result"
    }
   ],
   "source": [
    "grafo = Grafo([alunos[0]],[])\n",
    "grafo.add(alunos[1])\n",
    "grafo.add(alunos[2])\n",
    "grafo.add(alunos[3])\n",
    "grafo"
   ]
  },
  {
   "cell_type": "code",
   "execution_count": 349,
   "metadata": {},
   "outputs": [
    {
     "name": "stdout",
     "output_type": "stream",
     "text": [
      "60.0\n",
      "4\n"
     ]
    }
   ],
   "source": [
    "print(grafo.diferenca())\n",
    "print(grafo.grau())"
   ]
  },
  {
   "cell_type": "markdown",
   "metadata": {},
   "source": [
    "## 4) Função Principal e Aplicação"
   ]
  },
  {
   "cell_type": "code",
   "execution_count": 350,
   "metadata": {},
   "outputs": [],
   "source": [
    "def particao(k, alunos):\n",
    "    subgrafos = []\n",
    "    for aluno in alunos:\n",
    "        subgrafo = Grafo([aluno],[])\n",
    "        subgrafos.append(subgrafo)  \n",
    "    while len(subgrafos) > k:\n",
    "        subgrafos = sorted(subgrafos, key = lambda g: (g.grau(), -g.diferenca())) #grau crescente, diferença decrescente\n",
    "        s = subgrafos.pop(0)\n",
    "        for aluno in s.vertices:\n",
    "            subgrafos = sorted(subgrafos, key = lambda g: (g.grau(), dist_grafo(Grafo([aluno],[]), g)))\n",
    "            subgrafos[0].add(aluno)\n",
    "    return subgrafos"
   ]
  },
  {
   "cell_type": "code",
   "execution_count": 369,
   "metadata": {},
   "outputs": [
    {
     "name": "stdout",
     "output_type": "stream",
     "text": [
      "[[\n",
      "Código Aluno: 6, Área de Pesquisa: 3, \n",
      "Código Aluno: 3, Área de Pesquisa: 3, \n",
      "Código Aluno: 4, Área de Pesquisa: 2, \n",
      "Código Aluno: 1, Área de Pesquisa: 1, \n",
      "Código Aluno: 10, Área de Pesquisa: 2, \n",
      "Código Aluno: 11, Área de Pesquisa: 2]\n",
      "[\n",
      "(3, 6, 0.0), \n",
      "(4, 6, 50.0), \n",
      "(1, 6, 10.0), \n",
      "(10, 4, 0.0), \n",
      "(11, 4, 0.0)], [\n",
      "Código Aluno: 8, Área de Pesquisa: 1, \n",
      "Código Aluno: 7, Área de Pesquisa: 1, \n",
      "Código Aluno: 9, Área de Pesquisa: 3, \n",
      "Código Aluno: 2, Área de Pesquisa: 1, \n",
      "Código Aluno: 5, Área de Pesquisa: 2]\n",
      "[\n",
      "(7, 8, 0.0), \n",
      "(9, 8, 10.0), \n",
      "(2, 8, 0.0), \n",
      "(5, 9, 50.0)]]\n"
     ]
    },
    {
     "data": {
      "text/plain": [
       "2"
      ]
     },
     "execution_count": 369,
     "metadata": {},
     "output_type": "execute_result"
    }
   ],
   "source": [
    "solucao = particao(2, alunos)\n",
    "print(solucao)\n",
    "len(solucao)"
   ]
  },
  {
   "cell_type": "markdown",
   "metadata": {},
   "source": [
    "## 5) Visualização"
   ]
  },
  {
   "cell_type": "code",
   "execution_count": 370,
   "metadata": {},
   "outputs": [
    {
     "data": {
      "image/svg+xml": [
       "<?xml version=\"1.0\" encoding=\"UTF-8\"?>\n",
       "<svg xmlns=\"http://www.w3.org/2000/svg\" xmlns:xlink=\"http://www.w3.org/1999/xlink\" width=\"600pt\" height=\"600pt\" viewBox=\"0 0 600 600\" version=\"1.1\">\n",
       "<g id=\"surface62\">\n",
       "<rect x=\"0\" y=\"0\" width=\"600\" height=\"600\" style=\"fill:rgb(100%,100%,100%);fill-opacity:1;stroke:none;\"/>\n",
       "<path style=\"fill:none;stroke-width:1;stroke-linecap:butt;stroke-linejoin:miter;stroke:rgb(26.666667%,26.666667%,26.666667%);stroke-opacity:1;stroke-miterlimit:10;\" d=\"M 535.195313 349.007813 L 462.296875 229.523438 \"/>\n",
       "<path style=\"fill:none;stroke-width:1;stroke-linecap:butt;stroke-linejoin:miter;stroke:rgb(26.666667%,26.666667%,26.666667%);stroke-opacity:1;stroke-miterlimit:10;\" d=\"M 328.179688 138.65625 L 462.296875 229.523438 \"/>\n",
       "<path style=\"fill:none;stroke-width:1;stroke-linecap:butt;stroke-linejoin:miter;stroke:rgb(26.666667%,26.666667%,26.666667%);stroke-opacity:1;stroke-miterlimit:10;\" d=\"M 580 189.453125 L 462.296875 229.523438 \"/>\n",
       "<path style=\"fill:none;stroke-width:1;stroke-linecap:butt;stroke-linejoin:miter;stroke:rgb(26.666667%,26.666667%,26.666667%);stroke-opacity:1;stroke-miterlimit:10;\" d=\"M 328.179688 138.65625 L 328.859375 20 \"/>\n",
       "<path style=\"fill:none;stroke-width:1;stroke-linecap:butt;stroke-linejoin:miter;stroke:rgb(26.666667%,26.666667%,26.666667%);stroke-opacity:1;stroke-miterlimit:10;\" d=\"M 328.179688 138.65625 L 185.332031 114.109375 \"/>\n",
       "<path style=\"fill:none;stroke-width:1;stroke-linecap:butt;stroke-linejoin:miter;stroke:rgb(26.666667%,26.666667%,26.666667%);stroke-opacity:1;stroke-miterlimit:10;\" d=\"M 370.375 517.734375 L 233.898438 473.035156 \"/>\n",
       "<path style=\"fill:none;stroke-width:1;stroke-linecap:butt;stroke-linejoin:miter;stroke:rgb(26.666667%,26.666667%,26.666667%);stroke-opacity:1;stroke-miterlimit:10;\" d=\"M 233.898438 473.035156 L 111.226563 389.53125 \"/>\n",
       "<path style=\"fill:none;stroke-width:1;stroke-linecap:butt;stroke-linejoin:miter;stroke:rgb(26.666667%,26.666667%,26.666667%);stroke-opacity:1;stroke-miterlimit:10;\" d=\"M 201.613281 580 L 233.898438 473.035156 \"/>\n",
       "<path style=\"fill:none;stroke-width:1;stroke-linecap:butt;stroke-linejoin:miter;stroke:rgb(26.666667%,26.666667%,26.666667%);stroke-opacity:1;stroke-miterlimit:10;\" d=\"M 20 302.941406 L 111.226563 389.53125 \"/>\n",
       "<path style=\"fill-rule:nonzero;fill:rgb(100%,0%,0%);fill-opacity:1;stroke-width:1;stroke-linecap:butt;stroke-linejoin:miter;stroke:rgb(0%,0%,0%);stroke-opacity:1;stroke-miterlimit:10;\" d=\"M 590 189.453125 C 590 194.976563 585.523438 199.453125 580 199.453125 C 574.476563 199.453125 570 194.976563 570 189.453125 C 570 183.929688 574.476563 179.453125 580 179.453125 C 585.523438 179.453125 590 183.929688 590 189.453125 \"/>\n",
       "<path style=\"fill-rule:nonzero;fill:rgb(100%,0%,0%);fill-opacity:1;stroke-width:1;stroke-linecap:butt;stroke-linejoin:miter;stroke:rgb(0%,0%,0%);stroke-opacity:1;stroke-miterlimit:10;\" d=\"M 211.613281 580 C 211.613281 585.523438 207.132813 590 201.613281 590 C 196.089844 590 191.613281 585.523438 191.613281 580 C 191.613281 574.476563 196.089844 570 201.613281 570 C 207.132813 570 211.613281 574.476563 211.613281 580 \"/>\n",
       "<path style=\"fill-rule:nonzero;fill:rgb(100%,0%,0%);fill-opacity:1;stroke-width:1;stroke-linecap:butt;stroke-linejoin:miter;stroke:rgb(0%,0%,0%);stroke-opacity:1;stroke-miterlimit:10;\" d=\"M 545.195313 349.007813 C 545.195313 354.53125 540.71875 359.007813 535.195313 359.007813 C 529.671875 359.007813 525.195313 354.53125 525.195313 349.007813 C 525.195313 343.488281 529.671875 339.007813 535.195313 339.007813 C 540.71875 339.007813 545.195313 343.488281 545.195313 349.007813 \"/>\n",
       "<path style=\"fill-rule:nonzero;fill:rgb(100%,0%,0%);fill-opacity:1;stroke-width:1;stroke-linecap:butt;stroke-linejoin:miter;stroke:rgb(0%,0%,0%);stroke-opacity:1;stroke-miterlimit:10;\" d=\"M 338.179688 138.65625 C 338.179688 144.175781 333.703125 148.65625 328.179688 148.65625 C 322.65625 148.65625 318.179688 144.175781 318.179688 138.65625 C 318.179688 133.132813 322.65625 128.65625 328.179688 128.65625 C 333.703125 128.65625 338.179688 133.132813 338.179688 138.65625 \"/>\n",
       "<path style=\"fill-rule:nonzero;fill:rgb(100%,0%,0%);fill-opacity:1;stroke-width:1;stroke-linecap:butt;stroke-linejoin:miter;stroke:rgb(0%,0%,0%);stroke-opacity:1;stroke-miterlimit:10;\" d=\"M 30 302.941406 C 30 308.464844 25.523438 312.941406 20 312.941406 C 14.476563 312.941406 10 308.464844 10 302.941406 C 10 297.417969 14.476563 292.941406 20 292.941406 C 25.523438 292.941406 30 297.417969 30 302.941406 \"/>\n",
       "<path style=\"fill-rule:nonzero;fill:rgb(100%,0%,0%);fill-opacity:1;stroke-width:1;stroke-linecap:butt;stroke-linejoin:miter;stroke:rgb(0%,0%,0%);stroke-opacity:1;stroke-miterlimit:10;\" d=\"M 472.296875 229.523438 C 472.296875 235.042969 467.816406 239.523438 462.296875 239.523438 C 456.773438 239.523438 452.296875 235.042969 452.296875 229.523438 C 452.296875 224 456.773438 219.523438 462.296875 219.523438 C 467.816406 219.523438 472.296875 224 472.296875 229.523438 \"/>\n",
       "<path style=\"fill-rule:nonzero;fill:rgb(100%,0%,0%);fill-opacity:1;stroke-width:1;stroke-linecap:butt;stroke-linejoin:miter;stroke:rgb(0%,0%,0%);stroke-opacity:1;stroke-miterlimit:10;\" d=\"M 380.375 517.734375 C 380.375 523.257813 375.898438 527.734375 370.375 527.734375 C 364.851563 527.734375 360.375 523.257813 360.375 517.734375 C 360.375 512.210938 364.851563 507.734375 370.375 507.734375 C 375.898438 507.734375 380.375 512.210938 380.375 517.734375 \"/>\n",
       "<path style=\"fill-rule:nonzero;fill:rgb(100%,0%,0%);fill-opacity:1;stroke-width:1;stroke-linecap:butt;stroke-linejoin:miter;stroke:rgb(0%,0%,0%);stroke-opacity:1;stroke-miterlimit:10;\" d=\"M 243.898438 473.035156 C 243.898438 478.558594 239.421875 483.035156 233.898438 483.035156 C 228.375 483.035156 223.898438 478.558594 223.898438 473.035156 C 223.898438 467.511719 228.375 463.035156 233.898438 463.035156 C 239.421875 463.035156 243.898438 467.511719 243.898438 473.035156 \"/>\n",
       "<path style=\"fill-rule:nonzero;fill:rgb(100%,0%,0%);fill-opacity:1;stroke-width:1;stroke-linecap:butt;stroke-linejoin:miter;stroke:rgb(0%,0%,0%);stroke-opacity:1;stroke-miterlimit:10;\" d=\"M 121.226563 389.53125 C 121.226563 395.054688 116.75 399.53125 111.226563 399.53125 C 105.703125 399.53125 101.226563 395.054688 101.226563 389.53125 C 101.226563 384.007813 105.703125 379.53125 111.226563 379.53125 C 116.75 379.53125 121.226563 384.007813 121.226563 389.53125 \"/>\n",
       "<path style=\"fill-rule:nonzero;fill:rgb(100%,0%,0%);fill-opacity:1;stroke-width:1;stroke-linecap:butt;stroke-linejoin:miter;stroke:rgb(0%,0%,0%);stroke-opacity:1;stroke-miterlimit:10;\" d=\"M 338.859375 20 C 338.859375 25.523438 334.382813 30 328.859375 30 C 323.339844 30 318.859375 25.523438 318.859375 20 C 318.859375 14.476563 323.339844 10 328.859375 10 C 334.382813 10 338.859375 14.476563 338.859375 20 \"/>\n",
       "<path style=\"fill-rule:nonzero;fill:rgb(100%,0%,0%);fill-opacity:1;stroke-width:1;stroke-linecap:butt;stroke-linejoin:miter;stroke:rgb(0%,0%,0%);stroke-opacity:1;stroke-miterlimit:10;\" d=\"M 195.332031 114.109375 C 195.332031 119.628906 190.851563 124.109375 185.332031 124.109375 C 179.808594 124.109375 175.332031 119.628906 175.332031 114.109375 C 175.332031 108.585938 179.808594 104.109375 185.332031 104.109375 C 190.851563 104.109375 195.332031 108.585938 195.332031 114.109375 \"/>\n",
       "</g>\n",
       "</svg>\n"
      ],
      "text/plain": [
       "<igraph.drawing.Plot at 0x1e12e487c88>"
      ]
     },
     "execution_count": 370,
     "metadata": {
      "image/svg+xml": {
       "isolated": true
      }
     },
     "output_type": "execute_result"
    }
   ],
   "source": [
    "#visualização\n",
    "\n",
    "g = Graph()\n",
    "n_vertices = len(alunos)\n",
    "g.add_vertices(n_vertices)\n",
    "edges = []\n",
    "\n",
    "for grupo in solucao:\n",
    "    for aresta in grupo.arestas:\n",
    "        edges.append((aresta.aluno1.codigo_aluno-1, aresta.aluno2.codigo_aluno-1))\n",
    "\n",
    "g.add_edges(edges)        \n",
    "plot(g)"
   ]
  },
  {
   "cell_type": "code",
   "execution_count": null,
   "metadata": {},
   "outputs": [],
   "source": []
  }
 ],
 "metadata": {
  "kernelspec": {
   "display_name": "Python 3",
   "language": "python",
   "name": "python3"
  },
  "language_info": {
   "codemirror_mode": {
    "name": "ipython",
    "version": 3
   },
   "file_extension": ".py",
   "mimetype": "text/x-python",
   "name": "python",
   "nbconvert_exporter": "python",
   "pygments_lexer": "ipython3",
   "version": "3.7.7"
  }
 },
 "nbformat": 4,
 "nbformat_minor": 4
}
