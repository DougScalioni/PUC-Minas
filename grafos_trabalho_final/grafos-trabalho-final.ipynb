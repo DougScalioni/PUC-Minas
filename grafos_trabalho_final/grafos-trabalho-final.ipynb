{
 "cells": [
  {
   "cell_type": "code",
   "execution_count": 337,
   "metadata": {},
   "outputs": [],
   "source": [
    "from igraph import *\n",
    "import numpy as np"
   ]
  },
  {
   "cell_type": "code",
   "execution_count": 338,
   "metadata": {},
   "outputs": [],
   "source": [
    "class Aluno(object):\n",
    "    def __init__(self, codigo, area):\n",
    "        self.codigo_aluno = codigo\n",
    "        self.area_pesquisa = area\n",
    "    \n",
    "    def __repr__(self):\n",
    "        to_string = \"\\nCódigo Aluno: \" + str(self.codigo_aluno)\n",
    "        to_string += \", Área de Pesquisa: \" + str(self.area_pesquisa)\n",
    "        return to_string \n",
    "        "
   ]
  },
  {
   "cell_type": "code",
   "execution_count": 339,
   "metadata": {},
   "outputs": [
    {
     "data": {
      "text/plain": [
       "[\n",
       " Código Aluno: 1, Área de Pesquisa: 1,\n",
       " \n",
       " Código Aluno: 2, Área de Pesquisa: 1,\n",
       " \n",
       " Código Aluno: 3, Área de Pesquisa: 3,\n",
       " \n",
       " Código Aluno: 4, Área de Pesquisa: 2,\n",
       " \n",
       " Código Aluno: 5, Área de Pesquisa: 2,\n",
       " \n",
       " Código Aluno: 6, Área de Pesquisa: 3,\n",
       " \n",
       " Código Aluno: 7, Área de Pesquisa: 1,\n",
       " \n",
       " Código Aluno: 8, Área de Pesquisa: 1,\n",
       " \n",
       " Código Aluno: 9, Área de Pesquisa: 3,\n",
       " \n",
       " Código Aluno: 10, Área de Pesquisa: 2,\n",
       " \n",
       " Código Aluno: 11, Área de Pesquisa: 2]"
      ]
     },
     "execution_count": 339,
     "metadata": {},
     "output_type": "execute_result"
    }
   ],
   "source": [
    "file = open('Aluno_Area_Pesquisa.txt', 'r').read()\n",
    "lines = file.split('\\n')\n",
    "alunos = []\n",
    "for line in lines:\n",
    "    line = line.split(' ')\n",
    "    codigo_aluno = int(line[0])\n",
    "    area_pesquisa = int(line[1])\n",
    "    a = Aluno(codigo_aluno, area_pesquisa)\n",
    "    alunos.append(a)\n",
    "alunos"
   ]
  },
  {
   "cell_type": "code",
   "execution_count": 340,
   "metadata": {},
   "outputs": [],
   "source": [
    "def completa_matriz(matriz_triangulo):\n",
    "    matriz_triangulo.sort(key=len, reverse=True)\n",
    "    lado = len(matriz_triangulo)\n",
    "    matriz = np.zeros((lado, lado))\n",
    "    for i in range(lado):\n",
    "        for j in range(len(matriz_triangulo[i])):\n",
    "            matriz[i][i+j] = matriz_triangulo[i][j]\n",
    "            matriz[i+j][i] = matriz_triangulo[i][j]\n",
    "    return matriz\n",
    "    "
   ]
  },
  {
   "cell_type": "code",
   "execution_count": 341,
   "metadata": {},
   "outputs": [
    {
     "data": {
      "text/plain": [
       "array([[ 0., 80., 10.],\n",
       "       [80.,  0., 50.],\n",
       "       [10., 50.,  0.]])"
      ]
     },
     "execution_count": 341,
     "metadata": {},
     "output_type": "execute_result"
    }
   ],
   "source": [
    "file = open('Matriz_Dissimilaridade.txt', 'r').read()\n",
    "lines = file.split('\\n')\n",
    "matriz_triangulo = []\n",
    "for l in lines:\n",
    "    l = l.split(' ')\n",
    "    l = list(filter(None, l))\n",
    "    matriz_triangulo.append(l)\n",
    "matriz = completa_matriz(matriz_triangulo)\n",
    "matriz"
   ]
  },
  {
   "cell_type": "code",
   "execution_count": 342,
   "metadata": {},
   "outputs": [],
   "source": [
    "def dist_aluno(aluno1, aluno2):\n",
    "    area1 = aluno1.area_pesquisa\n",
    "    area2 = aluno2.area_pesquisa\n",
    "    return matriz[area1-1][area2-1]\n",
    "    "
   ]
  },
  {
   "cell_type": "code",
   "execution_count": 343,
   "metadata": {},
   "outputs": [
    {
     "data": {
      "text/plain": [
       "10.0"
      ]
     },
     "execution_count": 343,
     "metadata": {},
     "output_type": "execute_result"
    }
   ],
   "source": [
    "dist_aluno(alunos[0],alunos[2])"
   ]
  },
  {
   "cell_type": "code",
   "execution_count": 344,
   "metadata": {},
   "outputs": [],
   "source": [
    "class Aresta(object):\n",
    "    def __init__(self, aluno1, aluno2, peso):\n",
    "        self.aluno1 = aluno1\n",
    "        self.aluno2 = aluno2\n",
    "        self.peso = peso\n",
    "        \n",
    "        \n",
    "    def __repr__(self):\n",
    "        to_string = '\\n('+str(self.aluno1.codigo_aluno)+', '\n",
    "        to_string += str(self.aluno2.codigo_aluno)+', '\n",
    "        to_string += str(self.peso)+')'\n",
    "        return to_string "
   ]
  },
  {
   "cell_type": "code",
   "execution_count": 345,
   "metadata": {},
   "outputs": [],
   "source": [
    "class Grafo(object):\n",
    "    \n",
    "    vertices = []\n",
    "    arestas = []\n",
    "    \n",
    "    def __init__(self, vertices, arestas):\n",
    "        self.vertices = vertices\n",
    "        self.arestas = arestas\n",
    "\n",
    "        \n",
    "    def add(self, aluno):\n",
    "        mais_prox = self.vertices[0]\n",
    "        dist_min = dist_aluno(aluno, mais_prox)\n",
    "        for v in self.vertices:\n",
    "            dist = dist_aluno(aluno, v)\n",
    "            if dist < dist_min:\n",
    "                dist_min = dist\n",
    "                mais_prox = v\n",
    "        self.vertices.append(aluno)\n",
    "        aresta = Aresta(aluno, mais_prox, dist_min)\n",
    "        self.arestas.append(aresta)\n",
    "        \n",
    "    \n",
    "    def diferenca(self):\n",
    "        diferenca = 0\n",
    "        for v in self.arestas:\n",
    "            diferenca += v.peso\n",
    "        return diferenca\n",
    "            \n",
    "        \n",
    "    def grau(self):\n",
    "        return len(self.vertices)\n",
    "    \n",
    "            \n",
    "    def __repr__(self):\n",
    "        return str(self.vertices) + '\\n'+ str(self.arestas)\n",
    "    "
   ]
  },
  {
   "cell_type": "code",
   "execution_count": 346,
   "metadata": {},
   "outputs": [],
   "source": [
    "def dist_grafo(grafo1, grafo2):\n",
    "    sum_dist = 0\n",
    "    for aluno1 in grafo1.vertices:\n",
    "        for aluno2 in grafo2.vertices:\n",
    "            sum_dist += dist_aluno(aluno1, aluno2)\n",
    "    n = len(grafo1.vertices)\n",
    "    m = len(grafo2.vertices)\n",
    "    media_dist = sum_dist/(n*m)\n",
    "    return media_dist\n",
    "        "
   ]
  },
  {
   "cell_type": "code",
   "execution_count": 347,
   "metadata": {},
   "outputs": [
    {
     "name": "stdout",
     "output_type": "stream",
     "text": [
      "0\n"
     ]
    },
    {
     "data": {
      "text/plain": [
       "33.333333333333336"
      ]
     },
     "execution_count": 347,
     "metadata": {},
     "output_type": "execute_result"
    }
   ],
   "source": [
    "alunos1 = alunos[:5]\n",
    "alunos2 = alunos[5:]\n",
    "#print(alunos1, alunos2)\n",
    "grafo1 = Grafo(alunos1, [])\n",
    "grafo2 = Grafo(alunos2, [])\n",
    "print(grafo1.diferenca())\n",
    "dist_grafo(grafo1, grafo2)"
   ]
  },
  {
   "cell_type": "code",
   "execution_count": 348,
   "metadata": {},
   "outputs": [
    {
     "data": {
      "text/plain": [
       "[\n",
       "Código Aluno: 1, Área de Pesquisa: 1, \n",
       "Código Aluno: 2, Área de Pesquisa: 1, \n",
       "Código Aluno: 3, Área de Pesquisa: 3, \n",
       "Código Aluno: 4, Área de Pesquisa: 2]\n",
       "[\n",
       "(2, 1, 0.0), \n",
       "(3, 1, 10.0), \n",
       "(4, 3, 50.0)]"
      ]
     },
     "execution_count": 348,
     "metadata": {},
     "output_type": "execute_result"
    }
   ],
   "source": [
    "grafo = Grafo([alunos[0]],[])\n",
    "grafo.add(alunos[1])\n",
    "grafo.add(alunos[2])\n",
    "grafo.add(alunos[3])\n",
    "grafo"
   ]
  },
  {
   "cell_type": "code",
   "execution_count": 349,
   "metadata": {},
   "outputs": [
    {
     "name": "stdout",
     "output_type": "stream",
     "text": [
      "60.0\n",
      "4\n"
     ]
    }
   ],
   "source": [
    "print(grafo.diferenca())\n",
    "print(grafo.grau())"
   ]
  },
  {
   "cell_type": "code",
   "execution_count": 350,
   "metadata": {},
   "outputs": [],
   "source": [
    "def particao(k, alunos):\n",
    "    subgrafos = []\n",
    "    for aluno in alunos:\n",
    "        subgrafo = Grafo([aluno],[])\n",
    "        subgrafos.append(subgrafo)  \n",
    "    while len(subgrafos) > k:\n",
    "        subgrafos = sorted(subgrafos, key = lambda g: (g.grau(), -g.diferenca())) #grau crescente, diferença decrescente\n",
    "        s = subgrafos.pop(0)\n",
    "        for aluno in s.vertices:\n",
    "            subgrafos = sorted(subgrafos, key = lambda g: (g.grau(), dist_grafo(Grafo([aluno],[]), g)))\n",
    "            subgrafos[0].add(aluno)\n",
    "    return subgrafos"
   ]
  },
  {
   "cell_type": "code",
   "execution_count": 367,
   "metadata": {},
   "outputs": [
    {
     "name": "stdout",
     "output_type": "stream",
     "text": [
      "[[\n",
      "Código Aluno: 8, Área de Pesquisa: 1, \n",
      "Código Aluno: 7, Área de Pesquisa: 1, \n",
      "Código Aluno: 9, Área de Pesquisa: 3]\n",
      "[\n",
      "(7, 8, 0.0), \n",
      "(9, 8, 10.0)], [\n",
      "Código Aluno: 2, Área de Pesquisa: 1, \n",
      "Código Aluno: 1, Área de Pesquisa: 1]\n",
      "[\n",
      "(1, 2, 0.0)], [\n",
      "Código Aluno: 6, Área de Pesquisa: 3, \n",
      "Código Aluno: 3, Área de Pesquisa: 3, \n",
      "Código Aluno: 4, Área de Pesquisa: 2]\n",
      "[\n",
      "(3, 6, 0.0), \n",
      "(4, 6, 50.0)], [\n",
      "Código Aluno: 10, Área de Pesquisa: 2, \n",
      "Código Aluno: 5, Área de Pesquisa: 2, \n",
      "Código Aluno: 11, Área de Pesquisa: 2]\n",
      "[\n",
      "(5, 10, 0.0), \n",
      "(11, 10, 0.0)]]\n"
     ]
    },
    {
     "data": {
      "text/plain": [
       "4"
      ]
     },
     "execution_count": 367,
     "metadata": {},
     "output_type": "execute_result"
    }
   ],
   "source": [
    "solucao = particao(4, alunos)\n",
    "print(solucao)\n",
    "len(solucao)"
   ]
  },
  {
   "cell_type": "code",
   "execution_count": 368,
   "metadata": {},
   "outputs": [
    {
     "data": {
      "image/svg+xml": [
       "<?xml version=\"1.0\" encoding=\"UTF-8\"?>\n",
       "<svg xmlns=\"http://www.w3.org/2000/svg\" xmlns:xlink=\"http://www.w3.org/1999/xlink\" width=\"600pt\" height=\"600pt\" viewBox=\"0 0 600 600\" version=\"1.1\">\n",
       "<g id=\"surface56\">\n",
       "<rect x=\"0\" y=\"0\" width=\"600\" height=\"600\" style=\"fill:rgb(100%,100%,100%);fill-opacity:1;stroke:none;\"/>\n",
       "<path style=\"fill:none;stroke-width:1;stroke-linecap:butt;stroke-linejoin:miter;stroke:rgb(26.666667%,26.666667%,26.666667%);stroke-opacity:1;stroke-miterlimit:10;\" d=\"M 274.457031 20 L 179.339844 98.425781 \"/>\n",
       "<path style=\"fill:none;stroke-width:1;stroke-linecap:butt;stroke-linejoin:miter;stroke:rgb(26.666667%,26.666667%,26.666667%);stroke-opacity:1;stroke-miterlimit:10;\" d=\"M 179.339844 98.425781 L 63.152344 141.164063 \"/>\n",
       "<path style=\"fill:none;stroke-width:1;stroke-linecap:butt;stroke-linejoin:miter;stroke:rgb(26.666667%,26.666667%,26.666667%);stroke-opacity:1;stroke-miterlimit:10;\" d=\"M 565.753906 174.914063 L 493.492188 85.558594 \"/>\n",
       "<path style=\"fill:none;stroke-width:1;stroke-linecap:butt;stroke-linejoin:miter;stroke:rgb(26.666667%,26.666667%,26.666667%);stroke-opacity:1;stroke-miterlimit:10;\" d=\"M 414.097656 580 L 482.167969 476.890625 \"/>\n",
       "<path style=\"fill:none;stroke-width:1;stroke-linecap:butt;stroke-linejoin:miter;stroke:rgb(26.666667%,26.666667%,26.666667%);stroke-opacity:1;stroke-miterlimit:10;\" d=\"M 580 402.117188 L 482.167969 476.890625 \"/>\n",
       "<path style=\"fill:none;stroke-width:1;stroke-linecap:butt;stroke-linejoin:miter;stroke:rgb(26.666667%,26.666667%,26.666667%);stroke-opacity:1;stroke-miterlimit:10;\" d=\"M 173.46875 568.613281 L 110.058594 462.371094 \"/>\n",
       "<path style=\"fill:none;stroke-width:1;stroke-linecap:butt;stroke-linejoin:miter;stroke:rgb(26.666667%,26.666667%,26.666667%);stroke-opacity:1;stroke-miterlimit:10;\" d=\"M 110.058594 462.371094 L 20 377.292969 \"/>\n",
       "<path style=\"fill-rule:nonzero;fill:rgb(100%,0%,0%);fill-opacity:1;stroke-width:1;stroke-linecap:butt;stroke-linejoin:miter;stroke:rgb(0%,0%,0%);stroke-opacity:1;stroke-miterlimit:10;\" d=\"M 575.753906 174.914063 C 575.753906 180.4375 571.277344 184.914063 565.753906 184.914063 C 560.230469 184.914063 555.753906 180.4375 555.753906 174.914063 C 555.753906 169.390625 560.230469 164.914063 565.753906 164.914063 C 571.277344 164.914063 575.753906 169.390625 575.753906 174.914063 \"/>\n",
       "<path style=\"fill-rule:nonzero;fill:rgb(100%,0%,0%);fill-opacity:1;stroke-width:1;stroke-linecap:butt;stroke-linejoin:miter;stroke:rgb(0%,0%,0%);stroke-opacity:1;stroke-miterlimit:10;\" d=\"M 503.492188 85.558594 C 503.492188 91.082031 499.011719 95.558594 493.492188 95.558594 C 487.96875 95.558594 483.492188 91.082031 483.492188 85.558594 C 483.492188 80.035156 487.96875 75.558594 493.492188 75.558594 C 499.011719 75.558594 503.492188 80.035156 503.492188 85.558594 \"/>\n",
       "<path style=\"fill-rule:nonzero;fill:rgb(100%,0%,0%);fill-opacity:1;stroke-width:1;stroke-linecap:butt;stroke-linejoin:miter;stroke:rgb(0%,0%,0%);stroke-opacity:1;stroke-miterlimit:10;\" d=\"M 424.097656 580 C 424.097656 585.523438 419.617188 590 414.097656 590 C 408.574219 590 404.097656 585.523438 404.097656 580 C 404.097656 574.476563 408.574219 570 414.097656 570 C 419.617188 570 424.097656 574.476563 424.097656 580 \"/>\n",
       "<path style=\"fill-rule:nonzero;fill:rgb(100%,0%,0%);fill-opacity:1;stroke-width:1;stroke-linecap:butt;stroke-linejoin:miter;stroke:rgb(0%,0%,0%);stroke-opacity:1;stroke-miterlimit:10;\" d=\"M 590 402.117188 C 590 407.640625 585.523438 412.117188 580 412.117188 C 574.476563 412.117188 570 407.640625 570 402.117188 C 570 396.59375 574.476563 392.117188 580 392.117188 C 585.523438 392.117188 590 396.59375 590 402.117188 \"/>\n",
       "<path style=\"fill-rule:nonzero;fill:rgb(100%,0%,0%);fill-opacity:1;stroke-width:1;stroke-linecap:butt;stroke-linejoin:miter;stroke:rgb(0%,0%,0%);stroke-opacity:1;stroke-miterlimit:10;\" d=\"M 183.46875 568.613281 C 183.46875 574.136719 178.992188 578.613281 173.46875 578.613281 C 167.945313 578.613281 163.46875 574.136719 163.46875 568.613281 C 163.46875 563.089844 167.945313 558.613281 173.46875 558.613281 C 178.992188 558.613281 183.46875 563.089844 183.46875 568.613281 \"/>\n",
       "<path style=\"fill-rule:nonzero;fill:rgb(100%,0%,0%);fill-opacity:1;stroke-width:1;stroke-linecap:butt;stroke-linejoin:miter;stroke:rgb(0%,0%,0%);stroke-opacity:1;stroke-miterlimit:10;\" d=\"M 492.167969 476.890625 C 492.167969 482.414063 487.6875 486.890625 482.167969 486.890625 C 476.644531 486.890625 472.167969 482.414063 472.167969 476.890625 C 472.167969 471.367188 476.644531 466.890625 482.167969 466.890625 C 487.6875 466.890625 492.167969 471.367188 492.167969 476.890625 \"/>\n",
       "<path style=\"fill-rule:nonzero;fill:rgb(100%,0%,0%);fill-opacity:1;stroke-width:1;stroke-linecap:butt;stroke-linejoin:miter;stroke:rgb(0%,0%,0%);stroke-opacity:1;stroke-miterlimit:10;\" d=\"M 284.457031 20 C 284.457031 25.523438 279.980469 30 274.457031 30 C 268.933594 30 264.457031 25.523438 264.457031 20 C 264.457031 14.476563 268.933594 10 274.457031 10 C 279.980469 10 284.457031 14.476563 284.457031 20 \"/>\n",
       "<path style=\"fill-rule:nonzero;fill:rgb(100%,0%,0%);fill-opacity:1;stroke-width:1;stroke-linecap:butt;stroke-linejoin:miter;stroke:rgb(0%,0%,0%);stroke-opacity:1;stroke-miterlimit:10;\" d=\"M 189.339844 98.425781 C 189.339844 103.949219 184.863281 108.425781 179.339844 108.425781 C 173.816406 108.425781 169.339844 103.949219 169.339844 98.425781 C 169.339844 92.902344 173.816406 88.425781 179.339844 88.425781 C 184.863281 88.425781 189.339844 92.902344 189.339844 98.425781 \"/>\n",
       "<path style=\"fill-rule:nonzero;fill:rgb(100%,0%,0%);fill-opacity:1;stroke-width:1;stroke-linecap:butt;stroke-linejoin:miter;stroke:rgb(0%,0%,0%);stroke-opacity:1;stroke-miterlimit:10;\" d=\"M 73.152344 141.164063 C 73.152344 146.683594 68.671875 151.164063 63.152344 151.164063 C 57.628906 151.164063 53.152344 146.683594 53.152344 141.164063 C 53.152344 135.640625 57.628906 131.164063 63.152344 131.164063 C 68.671875 131.164063 73.152344 135.640625 73.152344 141.164063 \"/>\n",
       "<path style=\"fill-rule:nonzero;fill:rgb(100%,0%,0%);fill-opacity:1;stroke-width:1;stroke-linecap:butt;stroke-linejoin:miter;stroke:rgb(0%,0%,0%);stroke-opacity:1;stroke-miterlimit:10;\" d=\"M 120.058594 462.371094 C 120.058594 467.894531 115.582031 472.371094 110.058594 472.371094 C 104.539063 472.371094 100.058594 467.894531 100.058594 462.371094 C 100.058594 456.847656 104.539063 452.371094 110.058594 452.371094 C 115.582031 452.371094 120.058594 456.847656 120.058594 462.371094 \"/>\n",
       "<path style=\"fill-rule:nonzero;fill:rgb(100%,0%,0%);fill-opacity:1;stroke-width:1;stroke-linecap:butt;stroke-linejoin:miter;stroke:rgb(0%,0%,0%);stroke-opacity:1;stroke-miterlimit:10;\" d=\"M 30 377.292969 C 30 382.816406 25.523438 387.292969 20 387.292969 C 14.476563 387.292969 10 382.816406 10 377.292969 C 10 371.769531 14.476563 367.292969 20 367.292969 C 25.523438 367.292969 30 371.769531 30 377.292969 \"/>\n",
       "</g>\n",
       "</svg>\n"
      ],
      "text/plain": [
       "<igraph.drawing.Plot at 0x1e12e494b88>"
      ]
     },
     "execution_count": 368,
     "metadata": {
      "image/svg+xml": {
       "isolated": true
      }
     },
     "output_type": "execute_result"
    }
   ],
   "source": [
    "#visualização\n",
    "\n",
    "g = Graph()\n",
    "n_vertices = len(alunos)\n",
    "g.add_vertices(n_vertices)\n",
    "edges = []\n",
    "\n",
    "for grupo in solucao:\n",
    "    for aresta in grupo.arestas:\n",
    "        edges.append((aresta.aluno1.codigo_aluno-1, aresta.aluno2.codigo_aluno-1))\n",
    "\n",
    "g.add_edges(edges)        \n",
    "plot(g)"
   ]
  },
  {
   "cell_type": "code",
   "execution_count": null,
   "metadata": {},
   "outputs": [],
   "source": []
  }
 ],
 "metadata": {
  "kernelspec": {
   "display_name": "Python 3",
   "language": "python",
   "name": "python3"
  },
  "language_info": {
   "codemirror_mode": {
    "name": "ipython",
    "version": 3
   },
   "file_extension": ".py",
   "mimetype": "text/x-python",
   "name": "python",
   "nbconvert_exporter": "python",
   "pygments_lexer": "ipython3",
   "version": "3.7.7"
  }
 },
 "nbformat": 4,
 "nbformat_minor": 4
}
